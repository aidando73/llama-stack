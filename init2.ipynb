{
 "cells": [
  {
   "cell_type": "code",
   "execution_count": 1,
   "metadata": {},
   "outputs": [
    {
     "name": "stderr",
     "output_type": "stream",
     "text": [
      "/home/ubuntu/1xa100-2/llama-stack/envs/lib/python3.10/site-packages/tqdm/auto.py:21: TqdmWarning: IProgress not found. Please update jupyter and ipywidgets. See https://ipywidgets.readthedocs.io/en/stable/user_install.html\n",
      "  from .autonotebook import tqdm as notebook_tqdm\n"
     ]
    }
   ],
   "source": [
    "import datasets\n",
    "\n",
    "dataset = datasets.load_dataset(\"rajpurkar/squad\")\n",
    "\n",
    "dataset"
   ]
  },
  {
   "cell_type": "code",
   "execution_count": 2,
   "metadata": {},
   "outputs": [
    {
     "name": "stdout",
     "output_type": "stream",
     "text": [
      "1000\n"
     ]
    },
    {
     "data": {
      "text/html": [
       "<div>\n",
       "<style scoped>\n",
       "    .dataframe tbody tr th:only-of-type {\n",
       "        vertical-align: middle;\n",
       "    }\n",
       "\n",
       "    .dataframe tbody tr th {\n",
       "        vertical-align: top;\n",
       "    }\n",
       "\n",
       "    .dataframe thead th {\n",
       "        text-align: right;\n",
       "    }\n",
       "</style>\n",
       "<table border=\"1\" class=\"dataframe\">\n",
       "  <thead>\n",
       "    <tr style=\"text-align: right;\">\n",
       "      <th></th>\n",
       "      <th>context</th>\n",
       "      <th>questions</th>\n",
       "      <th>answers</th>\n",
       "    </tr>\n",
       "  </thead>\n",
       "  <tbody>\n",
       "    <tr>\n",
       "      <th>12498</th>\n",
       "      <td>Sometimes, poly-sided matches that pit every o...</td>\n",
       "      <td>[What happens in a fatal four-way?, In a fatal...</td>\n",
       "      <td>[four wrestlers, each for themselves, fight in...</td>\n",
       "    </tr>\n",
       "    <tr>\n",
       "      <th>6904</th>\n",
       "      <td>In Lebanon, a part of the Christian population...</td>\n",
       "      <td>[Lebanese people of what religion sometimes co...</td>\n",
       "      <td>[Christian, Arabic, Lebanese Arabic, Arabic, L...</td>\n",
       "    </tr>\n",
       "    <tr>\n",
       "      <th>15073</th>\n",
       "      <td>The current \"Precentor\" (Head of Music) is Tim...</td>\n",
       "      <td>[What term is given to the Head of Music?, Wha...</td>\n",
       "      <td>[\"Precentor\", didgeridoo, Tim Johnson, eight]</td>\n",
       "    </tr>\n",
       "    <tr>\n",
       "      <th>8410</th>\n",
       "      <td>Israeli universities are among 100 top world u...</td>\n",
       "      <td>[Israeli universities rank where in mathematic...</td>\n",
       "      <td>[100, six, stem-cell research]</td>\n",
       "    </tr>\n",
       "    <tr>\n",
       "      <th>15074</th>\n",
       "      <td>The current Chief of the Defence Staff, the pr...</td>\n",
       "      <td>[What is the name of the person who is the cur...</td>\n",
       "      <td>[General Sir Nicholas Houghton, Chief of the D...</td>\n",
       "    </tr>\n",
       "  </tbody>\n",
       "</table>\n",
       "</div>"
      ],
      "text/plain": [
       "                                                 context  \\\n",
       "12498  Sometimes, poly-sided matches that pit every o...   \n",
       "6904   In Lebanon, a part of the Christian population...   \n",
       "15073  The current \"Precentor\" (Head of Music) is Tim...   \n",
       "8410   Israeli universities are among 100 top world u...   \n",
       "15074  The current Chief of the Defence Staff, the pr...   \n",
       "\n",
       "                                               questions  \\\n",
       "12498  [What happens in a fatal four-way?, In a fatal...   \n",
       "6904   [Lebanese people of what religion sometimes co...   \n",
       "15073  [What term is given to the Head of Music?, Wha...   \n",
       "8410   [Israeli universities rank where in mathematic...   \n",
       "15074  [What is the name of the person who is the cur...   \n",
       "\n",
       "                                                 answers  \n",
       "12498  [four wrestlers, each for themselves, fight in...  \n",
       "6904   [Christian, Arabic, Lebanese Arabic, Arabic, L...  \n",
       "15073      [\"Precentor\", didgeridoo, Tim Johnson, eight]  \n",
       "8410                      [100, six, stem-cell research]  \n",
       "15074  [General Sir Nicholas Houghton, Chief of the D...  "
      ]
     },
     "execution_count": 2,
     "metadata": {},
     "output_type": "execute_result"
    }
   ],
   "source": [
    "from tqdm import tqdm\n",
    "import pandas as pd\n",
    "\n",
    "# df = pd.concat(\n",
    "#     [\n",
    "#         pd.DataFrame(dataset[\"train\"]),\n",
    "#         pd.DataFrame(dataset[\"validation\"]),\n",
    "#     ],\n",
    "#     axis=0,\n",
    "# ).reset_index(drop=True)\n",
    "df = pd.DataFrame(dataset[\"train\"])\n",
    "\n",
    "# Get rid of id and title\n",
    "df = df.loc[:, ['context', 'question', 'answers']].copy()\n",
    "# although it is called answers, there is always one element only\n",
    "df['answers'] = df.answers.apply(lambda x: x['text'][0])\n",
    "df.rename(\n",
    "    columns={'question': 'questions', 'answer': 'answers'},\n",
    "    inplace=True\n",
    ")\n",
    "df = df.loc[:, ['context', 'questions', 'answers']].copy()\n",
    "df = df.groupby(\"context\").agg({\"questions\": list, \"answers\": list}).reset_index()\n",
    "\n",
    "df = df.sample(n=1000, random_state=42)\n",
    "print(len(df))\n",
    "df.head()"
   ]
  },
  {
   "cell_type": "code",
   "execution_count": 3,
   "metadata": {},
   "outputs": [
    {
     "ename": "ModuleNotFoundError",
     "evalue": "No module named 'counter'",
     "output_type": "error",
     "traceback": [
      "\u001b[0;31m---------------------------------------------------------------------------\u001b[0m",
      "\u001b[0;31mModuleNotFoundError\u001b[0m                       Traceback (most recent call last)",
      "Cell \u001b[0;32mIn[3], line 1\u001b[0m\n\u001b[0;32m----> 1\u001b[0m \u001b[38;5;28;01mfrom\u001b[39;00m \u001b[38;5;21;01mcounter\u001b[39;00m \u001b[38;5;28;01mimport\u001b[39;00m get_and_increment_counter\n\u001b[1;32m      2\u001b[0m \u001b[38;5;28;01mfrom\u001b[39;00m \u001b[38;5;21;01mllama_stack_client\u001b[39;00m \u001b[38;5;28;01mimport\u001b[39;00m LlamaStackClient\n\u001b[1;32m      3\u001b[0m \u001b[38;5;28;01mfrom\u001b[39;00m \u001b[38;5;21;01mllama_stack_client\u001b[39;00m\u001b[38;5;21;01m.\u001b[39;00m\u001b[38;5;21;01mtypes\u001b[39;00m\u001b[38;5;21;01m.\u001b[39;00m\u001b[38;5;21;01mmemory_insert_params\u001b[39;00m \u001b[38;5;28;01mimport\u001b[39;00m Document\n",
      "\u001b[0;31mModuleNotFoundError\u001b[0m: No module named 'counter'"
     ]
    }
   ],
   "source": [
    "from counter import get_and_increment_counter\n",
    "from llama_stack_client import LlamaStackClient\n",
    "from llama_stack_client.types.memory_insert_params import Document\n",
    "\n",
    "client = LlamaStackClient(\n",
    "    base_url=\"http://localhost:5001\",\n",
    ")\n",
    "\n",
    "providers = client.providers.list()\n",
    "memory_banks_response = client.memory_banks.list()\n",
    "\n",
    "bank_id = f\"bank_pdf_paper_{get_and_increment_counter()}\"\n",
    "provider = providers[\"memory\"][0]\n",
    "client.memory_banks.register(\n",
    "    memory_bank_id=bank_id,\n",
    "    params={\n",
    "        \"embedding_model\": \"all-MiniLM-L6-v2\",\n",
    "        # Is the default for agent config: https://github.com/meta-llama/llama-stack/blob/66d8f4ffd126bff668434b314892a99fe854a034/llama_stack/providers/inline/agents/meta_reference/agent_instance.py#L668\n",
    "        \"chunk_size_in_tokens\": 512,\n",
    "    },\n",
    "    provider_id=provider.provider_id,\n",
    ")\n",
    "bank_id"
   ]
  },
  {
   "cell_type": "code",
   "execution_count": 11,
   "metadata": {},
   "outputs": [
    {
     "data": {
      "text/plain": [
       "[{'document_id': '0',\n",
       "  'content': 'Sometimes, poly-sided matches that pit every one for themselves will incorporate tagging rules. Outside of kayfabe, this is done to give wrestlers a break from the action (as these matches tend to go on for long periods of time), and to make the action in the ring easier to choreograph. One of the most mainstream examples of this is the four-corner match, the most common type of match in the WWE before it was replaced with its equivalent fatal four-way; four wrestlers, each for themselves, fight in a match, but only two wrestlers can be in the match at any given time. The other two are positioned in the corner, and tags can be made between any two wrestlers.',\n",
       "  'mime_type': 'text/plain',\n",
       "  'metadata': {}},\n",
       " {'document_id': '1',\n",
       "  'content': 'In Lebanon, a part of the Christian population considers \"Lebanese\" to be in some sense a distinct language from Arabic and not merely a dialect. During the civil war Christians often used Lebanese Arabic officially, and sporadically used the Latin script to write Lebanese, thus further distinguishing it from Arabic. All Lebanese laws are written in the standard literary form of Arabic, though parliamentary debate may be conducted in Lebanese Arabic.',\n",
       "  'mime_type': 'text/plain',\n",
       "  'metadata': {}},\n",
       " {'document_id': '2',\n",
       "  'content': 'The current \"Precentor\" (Head of Music) is Tim Johnson, and the School boasts eight organs and an entire building for music (performance spaces include the School Hall, the Farrer Theatre and two halls dedicated to music, the Parry Hall and the Concert Hall). Many instruments are taught, including obscure ones such as the didgeridoo. The School participates in many national competitions; many pupils are part of the National Youth Orchestra, and the School gives scholarships for dedicated and talented musicians. A former Precentor of the college, Ralph Allwood set up and organised Eton Choral Courses, which run at the School every summer.',\n",
       "  'mime_type': 'text/plain',\n",
       "  'metadata': {}},\n",
       " {'document_id': '3',\n",
       "  'content': 'Israeli universities are among 100 top world universities in mathematics (Hebrew University, TAU and Technion), physics (TAU, Hebrew University and Weizmann Institute of Science), chemistry (Technion and Weizmann Institute of Science), computer science (Weizmann Institute of Science, Technion, Hebrew University, TAU and BIU) and economics (Hebrew University and TAU). Israel has produced six Nobel Prize-winning scientists since 2002 and has been frequently ranked as one of the countries with the highest ratios of scientific papers per capita in the world. Israel has led the world in stem-cell research papers per capita since 2000.',\n",
       "  'mime_type': 'text/plain',\n",
       "  'metadata': {}},\n",
       " {'document_id': '4',\n",
       "  'content': 'The current Chief of the Defence Staff, the professional head of the British Armed Forces, is General Sir Nicholas Houghton, late Green Howards. He is supported by the Vice Chief of the Defence Staff, by the professional heads of the three services of HM Armed Forces and by the Commander of Joint Forces Command.',\n",
       "  'mime_type': 'text/plain',\n",
       "  'metadata': {}}]"
      ]
     },
     "execution_count": 11,
     "metadata": {},
     "output_type": "execute_result"
    }
   ],
   "source": [
    "documents = [\n",
    "    Document(\n",
    "        document_id=str(idx),\n",
    "        content=context,\n",
    "        mime_type=\"text/plain\",\n",
    "        metadata={},\n",
    "    )\n",
    "    for idx, context in enumerate(df[\"context\"])\n",
    "]\n",
    "documents[:5]"
   ]
  },
  {
   "cell_type": "code",
   "execution_count": 7,
   "metadata": {},
   "outputs": [
    {
     "name": "stderr",
     "output_type": "stream",
     "text": [
      " 33%|███▎      | 163/500 [51:14<4:01:30, 43.00s/it]"
     ]
    }
   ],
   "source": [
    "# client.memory.insert(\n",
    "#     bank_id=bank_id,\n",
    "#     documents=documents,\n",
    "# )\n",
    "\n",
    "batch_size = 2\n",
    "\n",
    "for i in tqdm(range(0, len(documents), batch_size)):\n",
    "    batch = documents[i:i+batch_size]\n",
    "    client.memory.insert(\n",
    "        bank_id=bank_id,\n",
    "        documents=batch,\n",
    "    )"
   ]
  }
 ],
 "metadata": {
  "kernelspec": {
   "display_name": "Python 3 (ipykernel)",
   "language": "python",
   "name": "python3"
  },
  "language_info": {
   "codemirror_mode": {
    "name": "ipython",
    "version": 3
   },
   "file_extension": ".py",
   "mimetype": "text/x-python",
   "name": "python",
   "nbconvert_exporter": "python",
   "pygments_lexer": "ipython3",
   "version": "3.10.15"
  }
 },
 "nbformat": 4,
 "nbformat_minor": 2
}
