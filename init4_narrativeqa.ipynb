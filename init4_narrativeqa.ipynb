{
 "cells": [
  {
   "cell_type": "code",
   "execution_count": 98,
   "metadata": {},
   "outputs": [
    {
     "data": {
      "text/plain": [
       "DatasetDict({\n",
       "    train: Dataset({\n",
       "        features: ['document', 'question', 'answers'],\n",
       "        num_rows: 32747\n",
       "    })\n",
       "    test: Dataset({\n",
       "        features: ['document', 'question', 'answers'],\n",
       "        num_rows: 10557\n",
       "    })\n",
       "    validation: Dataset({\n",
       "        features: ['document', 'question', 'answers'],\n",
       "        num_rows: 3461\n",
       "    })\n",
       "})"
      ]
     },
     "execution_count": 98,
     "metadata": {},
     "output_type": "execute_result"
    }
   ],
   "source": [
    "import datasets\n",
    "\n",
    "dataset = datasets.load_dataset(\"deepmind/narrativeqa\")\n",
    "\n",
    "dataset"
   ]
  },
  {
   "cell_type": "code",
   "execution_count": 99,
   "metadata": {},
   "outputs": [
    {
     "data": {
      "text/html": [
       "<div>\n",
       "<style scoped>\n",
       "    .dataframe tbody tr th:only-of-type {\n",
       "        vertical-align: middle;\n",
       "    }\n",
       "\n",
       "    .dataframe tbody tr th {\n",
       "        vertical-align: top;\n",
       "    }\n",
       "\n",
       "    .dataframe thead th {\n",
       "        text-align: right;\n",
       "    }\n",
       "</style>\n",
       "<table border=\"1\" class=\"dataframe\">\n",
       "  <thead>\n",
       "    <tr style=\"text-align: right;\">\n",
       "      <th></th>\n",
       "      <th>document</th>\n",
       "      <th>question</th>\n",
       "      <th>answers</th>\n",
       "    </tr>\n",
       "  </thead>\n",
       "  <tbody>\n",
       "    <tr>\n",
       "      <th>0</th>\n",
       "      <td>{'id': '00fb61fa7bee266ad995e52190ebb73606b60b...</td>\n",
       "      <td>{'text': 'WHO NORMALLY DELIVERS THE OPENING PR...</td>\n",
       "      <td>[{'text': 'THE ACTOR WEARING THE BLACK CLOAK',...</td>\n",
       "    </tr>\n",
       "    <tr>\n",
       "      <th>1</th>\n",
       "      <td>{'id': '00fb61fa7bee266ad995e52190ebb73606b60b...</td>\n",
       "      <td>{'text': 'WHAT NAME WAS CYNTHIA MORE FAMOUSLY ...</td>\n",
       "      <td>[{'text': 'THE GODDESS DIANA', 'tokens': ['THE...</td>\n",
       "    </tr>\n",
       "    <tr>\n",
       "      <th>2</th>\n",
       "      <td>{'id': '00fb61fa7bee266ad995e52190ebb73606b60b...</td>\n",
       "      <td>{'text': 'WHO DOES ECHO WEEP FOR?', 'tokens': ...</td>\n",
       "      <td>[{'text': 'NARCISSUS', 'tokens': ['NARCISSUS']...</td>\n",
       "    </tr>\n",
       "    <tr>\n",
       "      <th>3</th>\n",
       "      <td>{'id': '00fb61fa7bee266ad995e52190ebb73606b60b...</td>\n",
       "      <td>{'text': 'WHAT DOES A DRINK FROM NARCISSUS'S S...</td>\n",
       "      <td>[{'text': 'FALL IN LOVE WITH THEMSELVES', 'tok...</td>\n",
       "    </tr>\n",
       "    <tr>\n",
       "      <th>4</th>\n",
       "      <td>{'id': '00fb61fa7bee266ad995e52190ebb73606b60b...</td>\n",
       "      <td>{'text': 'IN WHAT VALLEY DID THE SOLEMN REVELS...</td>\n",
       "      <td>[{'text': 'GARGAPHIE IN GREECE', 'tokens': ['G...</td>\n",
       "    </tr>\n",
       "  </tbody>\n",
       "</table>\n",
       "</div>"
      ],
      "text/plain": [
       "                                            document  \\\n",
       "0  {'id': '00fb61fa7bee266ad995e52190ebb73606b60b...   \n",
       "1  {'id': '00fb61fa7bee266ad995e52190ebb73606b60b...   \n",
       "2  {'id': '00fb61fa7bee266ad995e52190ebb73606b60b...   \n",
       "3  {'id': '00fb61fa7bee266ad995e52190ebb73606b60b...   \n",
       "4  {'id': '00fb61fa7bee266ad995e52190ebb73606b60b...   \n",
       "\n",
       "                                            question  \\\n",
       "0  {'text': 'WHO NORMALLY DELIVERS THE OPENING PR...   \n",
       "1  {'text': 'WHAT NAME WAS CYNTHIA MORE FAMOUSLY ...   \n",
       "2  {'text': 'WHO DOES ECHO WEEP FOR?', 'tokens': ...   \n",
       "3  {'text': 'WHAT DOES A DRINK FROM NARCISSUS'S S...   \n",
       "4  {'text': 'IN WHAT VALLEY DID THE SOLEMN REVELS...   \n",
       "\n",
       "                                             answers  \n",
       "0  [{'text': 'THE ACTOR WEARING THE BLACK CLOAK',...  \n",
       "1  [{'text': 'THE GODDESS DIANA', 'tokens': ['THE...  \n",
       "2  [{'text': 'NARCISSUS', 'tokens': ['NARCISSUS']...  \n",
       "3  [{'text': 'FALL IN LOVE WITH THEMSELVES', 'tok...  \n",
       "4  [{'text': 'GARGAPHIE IN GREECE', 'tokens': ['G...  "
      ]
     },
     "execution_count": 99,
     "metadata": {},
     "output_type": "execute_result"
    }
   ],
   "source": [
    "from IPython.display import display\n",
    "\n",
    "df = dataset[\"validation\"].to_pandas()\n",
    "df.head()"
   ]
  },
  {
   "cell_type": "code",
   "execution_count": 100,
   "metadata": {},
   "outputs": [
    {
     "data": {
      "text/html": [
       "<div>\n",
       "<style scoped>\n",
       "    .dataframe tbody tr th:only-of-type {\n",
       "        vertical-align: middle;\n",
       "    }\n",
       "\n",
       "    .dataframe tbody tr th {\n",
       "        vertical-align: top;\n",
       "    }\n",
       "\n",
       "    .dataframe thead th {\n",
       "        text-align: right;\n",
       "    }\n",
       "</style>\n",
       "<table border=\"1\" class=\"dataframe\">\n",
       "  <thead>\n",
       "    <tr style=\"text-align: right;\">\n",
       "      <th></th>\n",
       "      <th>document</th>\n",
       "      <th>question</th>\n",
       "      <th>answers</th>\n",
       "      <th>context</th>\n",
       "    </tr>\n",
       "  </thead>\n",
       "  <tbody>\n",
       "    <tr>\n",
       "      <th>0</th>\n",
       "      <td>{'id': '00fb61fa7bee266ad995e52190ebb73606b60b...</td>\n",
       "      <td>WHO NORMALLY DELIVERS THE OPENING PROLOGUE IN ...</td>\n",
       "      <td>[{'text': 'THE ACTOR WEARING THE BLACK CLOAK',...</td>\n",
       "      <td>The play begins with three pages disputing ov...</td>\n",
       "    </tr>\n",
       "    <tr>\n",
       "      <th>1</th>\n",
       "      <td>{'id': '00fb61fa7bee266ad995e52190ebb73606b60b...</td>\n",
       "      <td>WHAT NAME WAS CYNTHIA MORE FAMOUSLY KNOWN BY?</td>\n",
       "      <td>[{'text': 'THE GODDESS DIANA', 'tokens': ['THE...</td>\n",
       "      <td>The play begins with three pages disputing ov...</td>\n",
       "    </tr>\n",
       "    <tr>\n",
       "      <th>2</th>\n",
       "      <td>{'id': '00fb61fa7bee266ad995e52190ebb73606b60b...</td>\n",
       "      <td>WHO DOES ECHO WEEP FOR?</td>\n",
       "      <td>[{'text': 'NARCISSUS', 'tokens': ['NARCISSUS']...</td>\n",
       "      <td>The play begins with three pages disputing ov...</td>\n",
       "    </tr>\n",
       "    <tr>\n",
       "      <th>3</th>\n",
       "      <td>{'id': '00fb61fa7bee266ad995e52190ebb73606b60b...</td>\n",
       "      <td>WHAT DOES A DRINK FROM NARCISSUS'S SPRING CAUS...</td>\n",
       "      <td>[{'text': 'FALL IN LOVE WITH THEMSELVES', 'tok...</td>\n",
       "      <td>The play begins with three pages disputing ov...</td>\n",
       "    </tr>\n",
       "    <tr>\n",
       "      <th>4</th>\n",
       "      <td>{'id': '00fb61fa7bee266ad995e52190ebb73606b60b...</td>\n",
       "      <td>IN WHAT VALLEY DID THE SOLEMN REVELS OF CYNTHI...</td>\n",
       "      <td>[{'text': 'GARGAPHIE IN GREECE', 'tokens': ['G...</td>\n",
       "      <td>The play begins with three pages disputing ov...</td>\n",
       "    </tr>\n",
       "  </tbody>\n",
       "</table>\n",
       "</div>"
      ],
      "text/plain": [
       "                                            document  \\\n",
       "0  {'id': '00fb61fa7bee266ad995e52190ebb73606b60b...   \n",
       "1  {'id': '00fb61fa7bee266ad995e52190ebb73606b60b...   \n",
       "2  {'id': '00fb61fa7bee266ad995e52190ebb73606b60b...   \n",
       "3  {'id': '00fb61fa7bee266ad995e52190ebb73606b60b...   \n",
       "4  {'id': '00fb61fa7bee266ad995e52190ebb73606b60b...   \n",
       "\n",
       "                                            question  \\\n",
       "0  WHO NORMALLY DELIVERS THE OPENING PROLOGUE IN ...   \n",
       "1      WHAT NAME WAS CYNTHIA MORE FAMOUSLY KNOWN BY?   \n",
       "2                            WHO DOES ECHO WEEP FOR?   \n",
       "3  WHAT DOES A DRINK FROM NARCISSUS'S SPRING CAUS...   \n",
       "4  IN WHAT VALLEY DID THE SOLEMN REVELS OF CYNTHI...   \n",
       "\n",
       "                                             answers  \\\n",
       "0  [{'text': 'THE ACTOR WEARING THE BLACK CLOAK',...   \n",
       "1  [{'text': 'THE GODDESS DIANA', 'tokens': ['THE...   \n",
       "2  [{'text': 'NARCISSUS', 'tokens': ['NARCISSUS']...   \n",
       "3  [{'text': 'FALL IN LOVE WITH THEMSELVES', 'tok...   \n",
       "4  [{'text': 'GARGAPHIE IN GREECE', 'tokens': ['G...   \n",
       "\n",
       "                                             context  \n",
       "0   The play begins with three pages disputing ov...  \n",
       "1   The play begins with three pages disputing ov...  \n",
       "2   The play begins with three pages disputing ov...  \n",
       "3   The play begins with three pages disputing ov...  \n",
       "4   The play begins with three pages disputing ov...  "
      ]
     },
     "execution_count": 100,
     "metadata": {},
     "output_type": "execute_result"
    }
   ],
   "source": [
    "df['context'] = df['document'].apply(lambda x: x[\"summary\"]['text'])\n",
    "df['question'] = df['question'].apply(lambda x: x['text'])\n",
    "df.head()"
   ]
  },
  {
   "cell_type": "code",
   "execution_count": 90,
   "metadata": {},
   "outputs": [
    {
     "data": {
      "text/html": [
       "<div>\n",
       "<style scoped>\n",
       "    .dataframe tbody tr th:only-of-type {\n",
       "        vertical-align: middle;\n",
       "    }\n",
       "\n",
       "    .dataframe tbody tr th {\n",
       "        vertical-align: top;\n",
       "    }\n",
       "\n",
       "    .dataframe thead th {\n",
       "        text-align: right;\n",
       "    }\n",
       "</style>\n",
       "<table border=\"1\" class=\"dataframe\">\n",
       "  <thead>\n",
       "    <tr style=\"text-align: right;\">\n",
       "      <th></th>\n",
       "      <th>context</th>\n",
       "      <th>questions</th>\n",
       "    </tr>\n",
       "  </thead>\n",
       "  <tbody>\n",
       "    <tr>\n",
       "      <th>0</th>\n",
       "      <td>\"Goblin Market\" is about two close sisters, L...</td>\n",
       "      <td>[What are the sister's names?, Who lingers at ...</td>\n",
       "    </tr>\n",
       "    <tr>\n",
       "      <th>1</th>\n",
       "      <td>(From Conan The Warrior, ISBN 0-441-11465-2)\\...</td>\n",
       "      <td>[How old is Conan?, Why does Conan head off to...</td>\n",
       "    </tr>\n",
       "    <tr>\n",
       "      <th>2</th>\n",
       "      <td>(Note: The following synopsis was that of Emm...</td>\n",
       "      <td>[Who is the senior clerk at James How &amp; Sons?,...</td>\n",
       "    </tr>\n",
       "    <tr>\n",
       "      <th>3</th>\n",
       "      <td>A British woman, Elise Clifton-Ward (Angelina...</td>\n",
       "      <td>[Why is Elise being followed by the Police?, W...</td>\n",
       "    </tr>\n",
       "    <tr>\n",
       "      <th>4</th>\n",
       "      <td>A group of grifters rip off their latest mark...</td>\n",
       "      <td>[Why was one of the four grifters shot?, How d...</td>\n",
       "    </tr>\n",
       "  </tbody>\n",
       "</table>\n",
       "</div>"
      ],
      "text/plain": [
       "                                             context  \\\n",
       "0   \"Goblin Market\" is about two close sisters, L...   \n",
       "1   (From Conan The Warrior, ISBN 0-441-11465-2)\\...   \n",
       "2   (Note: The following synopsis was that of Emm...   \n",
       "3   A British woman, Elise Clifton-Ward (Angelina...   \n",
       "4   A group of grifters rip off their latest mark...   \n",
       "\n",
       "                                           questions  \n",
       "0  [What are the sister's names?, Who lingers at ...  \n",
       "1  [How old is Conan?, Why does Conan head off to...  \n",
       "2  [Who is the senior clerk at James How & Sons?,...  \n",
       "3  [Why is Elise being followed by the Police?, W...  \n",
       "4  [Why was one of the four grifters shot?, How d...  "
      ]
     },
     "execution_count": 90,
     "metadata": {},
     "output_type": "execute_result"
    }
   ],
   "source": [
    "df = df.rename(columns={'question': 'questions'})\n",
    "df = df.groupby('context').agg({'questions': list}).reset_index()\n",
    "df.head()"
   ]
  },
  {
   "cell_type": "code",
   "execution_count": 91,
   "metadata": {},
   "outputs": [
    {
     "name": "stdout",
     "output_type": "stream",
     "text": [
      "Number of duplicate contexts: 0\n"
     ]
    },
    {
     "data": {
      "text/plain": [
       "(115, 2)"
      ]
     },
     "execution_count": 91,
     "metadata": {},
     "output_type": "execute_result"
    }
   ],
   "source": [
    "# Check for duplicates in context column\n",
    "duplicate_contexts = df['context'].duplicated().sum()\n",
    "print(f\"Number of duplicate contexts: {duplicate_contexts}\")\n",
    "df.shape"
   ]
  },
  {
   "cell_type": "code",
   "execution_count": 92,
   "metadata": {},
   "outputs": [],
   "source": [
    "# df = df.sample(n=250, random_state=42)\n",
    "# df.head()"
   ]
  },
  {
   "cell_type": "code",
   "execution_count": 93,
   "metadata": {},
   "outputs": [
    {
     "data": {
      "text/html": [
       "<div>\n",
       "<style scoped>\n",
       "    .dataframe tbody tr th:only-of-type {\n",
       "        vertical-align: middle;\n",
       "    }\n",
       "\n",
       "    .dataframe tbody tr th {\n",
       "        vertical-align: top;\n",
       "    }\n",
       "\n",
       "    .dataframe thead th {\n",
       "        text-align: right;\n",
       "    }\n",
       "</style>\n",
       "<table border=\"1\" class=\"dataframe\">\n",
       "  <thead>\n",
       "    <tr style=\"text-align: right;\">\n",
       "      <th></th>\n",
       "      <th>context</th>\n",
       "      <th>questions</th>\n",
       "    </tr>\n",
       "  </thead>\n",
       "  <tbody>\n",
       "    <tr>\n",
       "      <th>0</th>\n",
       "      <td>\"Goblin Market\" is about two close sisters, L...</td>\n",
       "      <td>[What are the sister's names?, Who lingers at ...</td>\n",
       "    </tr>\n",
       "    <tr>\n",
       "      <th>1</th>\n",
       "      <td>(From Conan The Warrior, ISBN 0-441-11465-2)\\...</td>\n",
       "      <td>[How old is Conan?, Why does Conan head off to...</td>\n",
       "    </tr>\n",
       "    <tr>\n",
       "      <th>2</th>\n",
       "      <td>(Note: The following synopsis was that of Emm...</td>\n",
       "      <td>[Who is the senior clerk at James How &amp; Sons?,...</td>\n",
       "    </tr>\n",
       "    <tr>\n",
       "      <th>3</th>\n",
       "      <td>A British woman, Elise Clifton-Ward (Angelina...</td>\n",
       "      <td>[Why is Elise being followed by the Police?, W...</td>\n",
       "    </tr>\n",
       "    <tr>\n",
       "      <th>4</th>\n",
       "      <td>A group of grifters rip off their latest mark...</td>\n",
       "      <td>[Why was one of the four grifters shot?, How d...</td>\n",
       "    </tr>\n",
       "  </tbody>\n",
       "</table>\n",
       "</div>"
      ],
      "text/plain": [
       "                                             context  \\\n",
       "0   \"Goblin Market\" is about two close sisters, L...   \n",
       "1   (From Conan The Warrior, ISBN 0-441-11465-2)\\...   \n",
       "2   (Note: The following synopsis was that of Emm...   \n",
       "3   A British woman, Elise Clifton-Ward (Angelina...   \n",
       "4   A group of grifters rip off their latest mark...   \n",
       "\n",
       "                                           questions  \n",
       "0  [What are the sister's names?, Who lingers at ...  \n",
       "1  [How old is Conan?, Why does Conan head off to...  \n",
       "2  [Who is the senior clerk at James How & Sons?,...  \n",
       "3  [Why is Elise being followed by the Police?, W...  \n",
       "4  [Why was one of the four grifters shot?, How d...  "
      ]
     },
     "execution_count": 93,
     "metadata": {},
     "output_type": "execute_result"
    }
   ],
   "source": [
    "import pandas as pd\n",
    "\n",
    "# Save DataFrame to parquet file\n",
    "df.to_parquet('data/narrativeqa.parquet')\n",
    "df = pd.read_parquet('data/narrativeqa.parquet')\n",
    "df.head()"
   ]
  },
  {
   "cell_type": "code",
   "execution_count": 94,
   "metadata": {},
   "outputs": [
    {
     "data": {
      "text/html": [
       "<div>\n",
       "<style scoped>\n",
       "    .dataframe tbody tr th:only-of-type {\n",
       "        vertical-align: middle;\n",
       "    }\n",
       "\n",
       "    .dataframe tbody tr th {\n",
       "        vertical-align: top;\n",
       "    }\n",
       "\n",
       "    .dataframe thead th {\n",
       "        text-align: right;\n",
       "    }\n",
       "</style>\n",
       "<table border=\"1\" class=\"dataframe\">\n",
       "  <thead>\n",
       "    <tr style=\"text-align: right;\">\n",
       "      <th></th>\n",
       "      <th>context_length</th>\n",
       "    </tr>\n",
       "  </thead>\n",
       "  <tbody>\n",
       "    <tr>\n",
       "      <th>count</th>\n",
       "      <td>115.000000</td>\n",
       "    </tr>\n",
       "    <tr>\n",
       "      <th>mean</th>\n",
       "      <td>3271.817391</td>\n",
       "    </tr>\n",
       "    <tr>\n",
       "      <th>std</th>\n",
       "      <td>1225.678177</td>\n",
       "    </tr>\n",
       "    <tr>\n",
       "      <th>min</th>\n",
       "      <td>1196.000000</td>\n",
       "    </tr>\n",
       "    <tr>\n",
       "      <th>25%</th>\n",
       "      <td>2430.500000</td>\n",
       "    </tr>\n",
       "    <tr>\n",
       "      <th>50%</th>\n",
       "      <td>3278.000000</td>\n",
       "    </tr>\n",
       "    <tr>\n",
       "      <th>75%</th>\n",
       "      <td>4148.000000</td>\n",
       "    </tr>\n",
       "    <tr>\n",
       "      <th>max</th>\n",
       "      <td>6033.000000</td>\n",
       "    </tr>\n",
       "  </tbody>\n",
       "</table>\n",
       "</div>"
      ],
      "text/plain": [
       "       context_length\n",
       "count      115.000000\n",
       "mean      3271.817391\n",
       "std       1225.678177\n",
       "min       1196.000000\n",
       "25%       2430.500000\n",
       "50%       3278.000000\n",
       "75%       4148.000000\n",
       "max       6033.000000"
      ]
     },
     "execution_count": 94,
     "metadata": {},
     "output_type": "execute_result"
    }
   ],
   "source": [
    "df['context_length'] = df['context'].apply(lambda x: len(x))\n",
    "df.describe()"
   ]
  },
  {
   "cell_type": "code",
   "execution_count": 95,
   "metadata": {},
   "outputs": [
    {
     "data": {
      "text/plain": [
       "'bank_32'"
      ]
     },
     "execution_count": 95,
     "metadata": {},
     "output_type": "execute_result"
    }
   ],
   "source": [
    "from counter import get_and_increment_counter\n",
    "from llama_stack_client import LlamaStackClient\n",
    "from llama_stack_client.types.memory_insert_params import Document\n",
    "\n",
    "client = LlamaStackClient(\n",
    "    base_url=\"http://localhost:5001\",\n",
    ")\n",
    "\n",
    "providers = client.providers.list()\n",
    "memory_banks_response = client.memory_banks.list()\n",
    "\n",
    "bank_id = f\"bank_{get_and_increment_counter()}\"\n",
    "provider = providers[\"memory\"][0]\n",
    "client.memory_banks.register(\n",
    "    memory_bank_id=bank_id,\n",
    "    params={\n",
    "        \"embedding_model\": \"all-MiniLM-L6-v2\",\n",
    "        # Is the default for agent config: https://github.com/meta-llama/llama-stack/blob/66d8f4ffd126bff668434b314892a99fe854a034/llama_stack/providers/inline/agents/meta_reference/agent_instance.py#L668\n",
    "        \"chunk_size_in_tokens\": 512,\n",
    "    },\n",
    "    provider_id=provider.provider_id,\n",
    ")\n",
    "bank_id"
   ]
  },
  {
   "cell_type": "code",
   "execution_count": 96,
   "metadata": {},
   "outputs": [
    {
     "data": {
      "text/plain": [
       "[{'document_id': '0',\n",
       "  'content': ' \"Goblin Market\" is about two close sisters, Laura and Lizzie, as well as the goblins to whom the title refers.\\nAlthough the sisters seem to be quite young, they live by themselves in a house, and are accustomed to draw water every evening from a stream. As the poem begins, twilight is falling, and as usual, the sisters hear the calls from the goblin merchants, who sell fruits in fantastic abundance, variety and savour. On this evening, Laura lingers at the stream after her sister has left for home, intrigued by the goblins\\' strange manner and appearance. (Rossetti hints that the \"goblin men\" resemble animalsâ\\x80\\x94for example, having faces like wombats or cats, and possessing tails.) Longing for the goblin fruits but having no money, the impulsive Laura offers a lock of her hair and \"a tear more rare than pearl.\"\\nLaura gorges on the delicious fruit in a sort of bacchic frenzy, then once she is finished, after picking up one of the seeds, returns home in an ecstatic trance. Lizzie, waiting at home, and \"full of wise upbraidings,\" reminds Laura about the cautionary tale of Jeanie, another girl, who, having likewise partaken of the goblins\\' fruits, died just at the beginning of winter, after a long and pathetic decline. Strangely, no grass grows over Jeanie\\'s grave. Laura dismisses her sister\\'s worries, and says she shall return to the goblins the next night and return with more fruits for herself and Lizzie. That night, the sisters go to sleep in their shared bed.\\nThe next day, as Laura and Lizzie go about their work in the house, Laura dreamily longs for the coming evening\\'s meeting with the goblins. However, at the stream that evening, as she strains to hear the usual goblin chants and cries, Laura discovers to her horror that, although Lizzie still hears the goblins\\' voices, she cannot.\\nUnable to buy more of the forbidden fruit, and sickening for the lack of it, Laura falls into a slow physical deterioration and depression. As winter approaches, she withers away, aging at an unnatural rate and physically unable to do her accustomed household work. One day she remembers the saved seed and plants it, but nothing grows.\\nMonths pass, and Lizzie realizes that Laura is on the verge of death. Lizzie resolves to visit the goblins to buy some of their fruit, hoping to soothe Laura\\'s pain. Carrying a silver penny, Lizzie goes down to the brook and is greeted in a friendly way by the goblins, who invite her to sit and dine with them. When they realize, however, that the Lizzie means to pay with mere silver to buy the goblin-fruits to help another person, they turn upon the girl. The goblins viciously pummel and assault Lizzie, and try to feed her their fruits by force. In the process, they drench the brave girl in fruit juice and pulpâ\\x80\\x94but Lizzie ingests none of the goblin fruit.\\nLizzie escapes and runs home, hoping that Laura will eat and drink the pulp and juice from her body. Her dying sister does so, but the taste of the fruit repulses her rather than satisfies her hunger. Laura then undergoes a violent transformation of such intensity that her life seems to hang in the balance.\\nBy morning, however, Laura is restored, emotionally, physically, and mentally. The last stanza attests that both Laura and Lizzie live to tell their children of the evils of the goblins\\' fruitsâ\\x80\\x94and the powers of sisterly love.',\n",
       "  'mime_type': 'text/plain',\n",
       "  'metadata': {}},\n",
       " {'document_id': '1',\n",
       "  'content': ' (From Conan The Warrior, ISBN 0-441-11465-2)\\nThe foreword to the story tells of his travels to Punt with Muriela, refers to a scam perpetrated against worshippers of an ivory goddess and then on to Zembabwei, where he joins a trading caravan on its way to Shem. Around 40 now, Conan visits his homeland and finds his old friends are fathers. Bored, Conan sets off for the Bossonian Marches and becomes a Scout at Fort Tuscelan on the Black River. Naturally, there is a war going on...\\nA young settler named Balthus encounters Conan in the forests slaying a forest devil. Accompanying the young man back to the Fort, Conan finds the body of a merchant ensorcelled by a Pictish wizard named Zogar Sag and slain by a swamp demon.\\nThe Fort Tuscelan Commander, Valannus, is a desperate man and asks Conan to slay Zogar Sag before he raises the Picts against the whole borderlands. Taking a hand picked team of scouts and Balthus, Conan sets off stealthily in canoes. Balthus is captured and most of Conan\\'s men slaughtered in an ambush.\\nBalthus and one of the Scouts are tied to stakes and the scout is sacrificed by Zogar Sag to one of his jungle creatures. Before Balthus can meet a similar fate, Conan sets the Pictish village on fire and the two flee into the woods. Conan tells Balthus of the cult of Jhebbal Sag, now forgotten by most. Once all living things worshipped him when men and beasts spoke the same language. Over time men and most beasts forgot his worship. Zogar Sag has not, however, and can control those few animals and creatures who also remember. And they are on Conan\\'s trail now.\\nConan is able to neutralize them using a symbol he once noticed, and the pair hurry to return to the Fort to warn them of the impending Pictish assault, but they are too late. The Picts already are all around the fort, and furious fighting is going on. The number of Picts ensures that eventually the fort will be overwhelmed and the defenders slaughtered. The only thing left to do is warn the settlers to flee while the Picts are busy with the fort - otherwise they will be slaughtered, too.\\nConan and Balthus go to warn the settlers that the Picts have crossed the river and are raiding. They are joined by Slasher, a feral dog formerly owned by a settler who had been slain by the Picts. Balthus is sent on to warn settlers of the coming Pict raid, and Conan parts from him to warn a group of settler who had gone to gather salt. Balthus warns women and children to leave their huts and flee. When a band of Picts arrives, who move quicker and might overtake the women, Balthus stays behind to cover their escape. Accompanied by Slasher he makes a stand against the coming Pict raiders, first shooting arrows from concealment and then in a furious face to face battle. The man and dog\\'s sacrifice delays the Picts and gives the settlers time to reach safety. Conan manages to warn the salt-gathering party in time, but finds he has been marked for death by the gods of darkness for misusing the symbol of Jhebbal Sag. In the end Conan triumphs, but the fort is lost, and so is the entire province.\\nThe story ends in a tavern. A survivor tells Conan about the courageous act of Balthus and Slasher, and how their final stand had delayed the Picts just barely long enough for the settlers to reach safety. Upon hearing of the fight, Conan vowed to take the heads of ten Picts to pay for Balthus\\' sacrifice, along with seven heads for the dog, who was \"a better warrior than many a man.\"',\n",
       "  'mime_type': 'text/plain',\n",
       "  'metadata': {}},\n",
       " {'document_id': '2',\n",
       "  'content': ' (Note: The following synopsis was that of Emma Goldman, as published in a 1914 collection entitled The Social Significance of the Moden Drama:)\\nThe play opens in the office of James How & Sons, solicitors. The senior clerk, Robert Cokeson, discovers that a check he had issued for nine pounds has been forged to ninety. By elimination, suspicion falls upon William Falder, the junior office clerk. The latter is in love with a married woman, the abused and ill-treated wife of a brutal drunkard. Pressed by his employer, a severe yet not unkindly man, Falder confesses the forgery, pleading the dire necessity of his sweetheart, Ruth Honeywill, with whom he had planned to escape to save her from the unbearable brutality of her husband. Notwithstanding the entreaties of young Walter How, who holds modern ideas, his father, a moral and law-respecting citizen, turns Falder over to the police.\\nThe second act, in the court room, shows Justice in the very process of manufacture. The scene equals in dramatic power and psychologic verity the great court scene in \"Resurrection\". Young Falder, a youth of twenty-three, stands before the bar. Ruth, his faithful sweetheart, full of love and devotion, burns with anxiety to save the young man, whose affection for her has brought about his present predicament. Falder is defended by Lawyer Frome, whose speech to the jury is a masterpiece of social philosophy. He does not attempt to dispute the mere fact that his client had altered the check; and though he pleads temporary aberration in his defense, the argument is based on a social consciousness as fundamental and all-embracing as the roots of our social ills. He shows Falder to have faced the alternative of seeing the beloved woman murdered by her brutal husband, whom she cannot divorce, or of taking the law into his own hands. He pleads with the jury not to turn the weak young man into a criminal by condemning him to prison.\\nIn prison the young, inexperienced convict soon finds himself the victim of the terrible \"system.\" The authorities admit that young Falder is mentally and physically \"in bad shape,\" but nothing can be done in the matter: many others are in a similar position, and \"the quarters are inadequate.\"\\nThe third scene of the third act takes place in Falder\\'s prison cell.\\nFalder leaves the prison, a broken man. Thanks to Ruth\\'s pleading, the firm of James How & Son is willing to take Falder back in their employ, on condition that he give up Ruth. Falder resents this:\\nIt is then that Falder learns the awful news that the woman he loves had been driven by the chariot wheel of Justice to sell herself. At this moment the police appear to drag Falder back to prison for failing to report to the authorities as ticket-of-leave man. Completely overcome by the inexorability of his fate, Falder throws himself down the stairs, breaking his neck.\\nThe socio-revolutionary significance of \"Justice\" consists not only in the portrayal of the in-human system which grinds the Falders and Honeywills, but even more so in the utter helplessness of society as expressed in the words of the Senior Clerk, Cokeson, \"No one\\'ll touch him now! Never again! He\\'s safe with gentle Jesus!\"',\n",
       "  'mime_type': 'text/plain',\n",
       "  'metadata': {}},\n",
       " {'document_id': '3',\n",
       "  'content': ' A British woman, Elise Clifton-Ward (Angelina Jolie), is being followed by French Police who are working with Scotland Yard under the direction of Inspector John Acheson (Paul Bettany). Acheson has spent years hunting Alexander Pearce, a lover of Elise, who owes ÂŁ744 million in back taxes, and is believed to have received plastic surgery to alter his appearance. At a Parisian cafe, Elise receives written instructions from Pearce: Board the train to Venice; pick out a man; let the police believe that he is Pearce. Elise burns the note, evades the police and boards the train.\\nOn the train, Elise selects Frank Tupelo (Johnny Depp), who is apparently an American mathematics teacher from a community college in Wisconsin. She spends much time with him, seeming to start a romance. Meanwhile, the police have managed to salvage the ashes of her burned note and assembled them to extract information regarding her rendezvous, as well as her ruse. Aware of her location, but not of the ruse, an informer from the police station communicates to Reginald Shaw (Steven Berkoff), the mobster from whom Pearce stole $2.3 billion, that Pearce is traveling with Elise on the train to Venice. Shaw immediately proceeds to Venice.\\nElise invites Frank to stay with her at her suite in the Hotel Danieli in Venice. Pearce leaves further instructions for Elise to attend a ball. Elise abandons Frank, who is then chased by Shaw\\'s men. While trying to escape from them, Frank is detained by the Italian police, ostensibly for his own safety, only to have a corrupt inspector turn him over to Shaw\\'s men in exchange for the bounty that has been placed on Pearce\\'s head. Elise rescues Frank just before he is handed over, leading Shaw\\'s men on an extended boat chase and finally escaping. She leaves Frank at the airport with his passport and money, urging him to go home for his own safety.\\nElise is revealed to be an undercover Scotland Yard agent who was under suspension for her suspected sympathies with Pearce. She agrees to participate in a sting operation. At the ball, as Elise tries to spot Pearce in the crowd, an envelope is placed on the table in front of her, but the man (Rufus Sewell) disappears into the crowd. She tries to follow him through the crowd, but is stopped by Frank. Frank claims to be in love with Elise and invites her to dance with him. After the police surprise Frank, Elise reads the note. She leaves suddenly in her boat to be tailed by Shaw. Both parties are followed by the police. Frank is held handcuffed.\\nWhen Elise arrives at the destination, Shaw takes her prisoner, threatening to harm her unless she reveals the location of the stolen money. The police monitor the situation inside the rendezvous room through audio and video links. Despite Elise\\'s peril, Acheson repeatedly turns down police requests to intervene with their snipers. While the police are occupied in monitoring the situation, Frank escapes from the police boat and confronts Shaw, claiming to be Pearce and offering to open the safe if Elise is allowed to leave safely. Shaw is skeptical and makes a counter offer that Frank should open the safe if he does not want to see Elise tortured by his men. Chief Inspector Jones (Timothy Dalton) arrives at the police stake-out, overrides Acheson, and orders the snipers to fire, killing Shaw and his men. To Elise\\'s obvious pleasure, Jones lifts her suspension and terminates her employment.\\nAcheson, receiving a message that Pearce has been found near their position, rushes to find the police have detained an Englishman. The man, Lawrence Mason, says he is a tourist following written instructions received via his mobile phone, for which he has been receiving payments. Elise tells Frank that she loves him, but she also loves Pearce. Frank then suggests a \"solution\" to this dilemma; to Elise\\'s surprise, he opens the safe by entering the correct code, thus revealing that he is really Alexander Pearce. When the police open the safe they find only one cheque: It is for ÂŁ744 million. Acheson prepares to chase after Pearce, but Jones overrides him, reasoning that with the taxes now paid in full, Pearce\\'s only crime is that he stole money from a now-dead gangster. Jones orders the case to be closed, much to Acheson\\'s frustration. Frank (Alexander) and Elise sail away together.',\n",
       "  'mime_type': 'text/plain',\n",
       "  'metadata': {}},\n",
       " {'document_id': '4',\n",
       "  'content': ' A group of grifters rip off their latest mark and celebrate, while de facto leader of the group Jake Vig (Edward Burns) explains the art of the con. When one of the four (Louis Lombardi) is found shot to death, the other three learn that the latest money they stole actually belonged to a local L.A. crime lord called The King (Dustin Hoffman). Jake proposes that the grifters work for the King and steal money from Morgan Price (Robert Forster), a rival who owns a bank.\\nJake enlists the aid of his remaining partners, Gordo (Paul Giamatti) and Miles (Brian Van Holt), and also convinces an independent con artist named Lily (Rachel Weisz) to round out their foursome. The King, a ruthless killer who suffers from ADHD, demands that one of his men, Lupus (Franky G), also come along.\\nThe con involves bribing a bank vice president into wiring money offshore. The plan hits a snag when Special Agent Gunther Butan (Andy García) shows up in L.A., looking to finally bust Jake, whom he has followed for years. Butan forces corrupt LAPD detectives Omar Manzano (Luis Guzmán) and Lloyd Whitworth (Donal Logue) to switch their allegiance from Jake to him.\\nAfter hearing about Butan\\'s arrival, a nervous Jake pulls the plug on the whole con. He screams at Lily, making her walk out. Lupus gets Jake to reconsider nixing the con, hinting that The King will torture and kill the grifters if the plan falls short. The con is back on, though now without Lily\\'s help.\\nThe bribed bank VP wires the money to Gordo in Belize. Gordo brings it to Ontario Airport, where he is met by both Butan and The King\\'s men, both sides after the $5 million in a duffle bag. Butan arrests The King and confiscates the money.\\nGordo disappears. Lupus, thinking the King has the money, reveals he was the one who killed Jake\\'s grifter friend. Lupus holds Jake at gunpoint, but is shot by Travis (Morris Chestnut), a henchman for Morgan Price. It turns out that when Lily walked out, she went straight to Price himself and revealed the entire con, which was taking place that minute. Price told Travis to locate Jake and find out exactly how the con was engineered, to stop such a thing from ever happening again.\\nTravis takes Jake to an abandoned lot and forces him to explain the entire story. A furious Lily takes out a gun and kills Jake. Travis demands that he and Lily both disappear immediately. Minutes later, Butan arrives in a car and Jake sits up from a pool of blood, unharmed.\\nThe final parts of the con are revealed. Lily\\'s \"quitting\" was faked—a set-up to confuse Lupus. Butan is actually an old confidant of Jake\\'s. He managed to \"confiscate\" the money and arrest The King at the same time. Butan has the money and it\\'s split five ways. Jake was wearing squibs to fake his own death in the lot.\\nIn the end, everyone was in on everything except for The King and Lupus (the first marks), Price and Travis (the second, bigger marks), and the two corrupt LAPD detectives, who have been arrested. The four grifters reunite and celebrate.',\n",
       "  'mime_type': 'text/plain',\n",
       "  'metadata': {}}]"
      ]
     },
     "execution_count": 96,
     "metadata": {},
     "output_type": "execute_result"
    }
   ],
   "source": [
    "documents = [\n",
    "    Document(\n",
    "        document_id=str(idx),\n",
    "        content=context,\n",
    "        mime_type=\"text/plain\",\n",
    "        metadata={},\n",
    "    )\n",
    "    for idx, context in zip(df.index, df[\"context\"])\n",
    "]\n",
    "documents[:5]"
   ]
  },
  {
   "cell_type": "code",
   "execution_count": 97,
   "metadata": {},
   "outputs": [
    {
     "name": "stderr",
     "output_type": "stream",
     "text": [
      "  2%|█▍                                                                              | 2/115 [00:00<00:06, 16.58it/s]"
     ]
    },
    {
     "name": "stderr",
     "output_type": "stream",
     "text": [
      "100%|██████████████████████████████████████████████████████████████████████████████| 115/115 [12:56<00:00,  6.75s/it]\n"
     ]
    }
   ],
   "source": [
    "from tqdm import tqdm\n",
    "\n",
    "for i in tqdm(range(len(documents))):\n",
    "    client.memory.insert(\n",
    "        bank_id=bank_id,\n",
    "        documents=[documents[i]],\n",
    "    )"
   ]
  }
 ],
 "metadata": {
  "kernelspec": {
   "display_name": "Python 3 (ipykernel)",
   "language": "python",
   "name": "python3"
  },
  "language_info": {
   "codemirror_mode": {
    "name": "ipython",
    "version": 3
   },
   "file_extension": ".py",
   "mimetype": "text/x-python",
   "name": "python",
   "nbconvert_exporter": "python",
   "pygments_lexer": "ipython3",
   "version": "3.10.15"
  }
 },
 "nbformat": 4,
 "nbformat_minor": 2
}
