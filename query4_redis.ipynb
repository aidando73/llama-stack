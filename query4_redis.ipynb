{
 "cells": [
  {
   "cell_type": "code",
   "execution_count": 25,
   "metadata": {},
   "outputs": [
    {
     "name": "stdout",
     "output_type": "stream",
     "text": [
      "Collecting redis\n",
      "  Downloading redis-5.2.1-py3-none-any.whl.metadata (9.1 kB)\n",
      "Requirement already satisfied: async-timeout>=4.0.3 in ./envs/lib/python3.10/site-packages (from redis) (5.0.1)\n",
      "Downloading redis-5.2.1-py3-none-any.whl (261 kB)\n",
      "Installing collected packages: redis\n",
      "Successfully installed redis-5.2.1\n",
      "Note: you may need to restart the kernel to use updated packages.\n"
     ]
    }
   ],
   "source": [
    "%pip install redis\n",
    "\n",
    "import redis\n",
    "\n",
    "r = redis.Redis(host='localhost', port=6379, db=0)\n"
   ]
  },
  {
   "cell_type": "code",
   "execution_count": null,
   "metadata": {},
   "outputs": [],
   "source": [
    "from counter import get_last_counter\n",
    "\n",
    "bank_id = f\"bank_{get_last_counter()}\"\n"
   ]
  },
  {
   "cell_type": "code",
   "execution_count": 26,
   "metadata": {},
   "outputs": [
    {
     "data": {
      "text/plain": [
       "[b'memory_banks:v1::bank_33', b'faiss_index:v1::bank_33']"
      ]
     },
     "execution_count": 26,
     "metadata": {},
     "output_type": "execute_result"
    }
   ],
   "source": [
    "r.keys()"
   ]
  },
  {
   "cell_type": "code",
   "execution_count": 27,
   "metadata": {},
   "outputs": [
    {
     "data": {
      "text/plain": [
       "b'{\"identifier\":\"bank_33\",\"provider_resource_id\":\"bank_33\",\"provider_id\":\"faiss\",\"type\":\"memory_bank\",\"memory_bank_type\":\"vector\",\"embedding_model\":\"all-MiniLM-L6-v2\",\"chunk_size_in_tokens\":512,\"overlap_size_in_tokens\":null}'"
      ]
     },
     "execution_count": 27,
     "metadata": {},
     "output_type": "execute_result"
    }
   ],
   "source": [
    "r.get(f\"memory_banks:v1::{bank_id}\")"
   ]
  },
  {
   "cell_type": "code",
   "execution_count": null,
   "metadata": {},
   "outputs": [],
   "source": [
    "r.get(f\"faiss_index:v1::{bank_id}\")"
   ]
  }
 ],
 "metadata": {
  "kernelspec": {
   "display_name": "Python 3 (ipykernel)",
   "language": "python",
   "name": "python3"
  },
  "language_info": {
   "codemirror_mode": {
    "name": "ipython",
    "version": 3
   },
   "file_extension": ".py",
   "mimetype": "text/x-python",
   "name": "python",
   "nbconvert_exporter": "python",
   "pygments_lexer": "ipython3",
   "version": "3.10.15"
  }
 },
 "nbformat": 4,
 "nbformat_minor": 2
}
