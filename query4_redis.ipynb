{
 "cells": [
  {
   "cell_type": "code",
   "execution_count": 1,
   "metadata": {},
   "outputs": [
    {
     "name": "stdout",
     "output_type": "stream",
     "text": [
      "Requirement already satisfied: redis in ./envs/lib/python3.10/site-packages (5.2.1)\n",
      "Requirement already satisfied: async-timeout>=4.0.3 in ./envs/lib/python3.10/site-packages (from redis) (5.0.1)\n",
      "Note: you may need to restart the kernel to use updated packages.\n"
     ]
    }
   ],
   "source": [
    "%pip install redis\n",
    "\n",
    "import redis\n",
    "\n",
    "r = redis.Redis(host='localhost', port=6379, db=0)\n"
   ]
  },
  {
   "cell_type": "code",
   "execution_count": 2,
   "metadata": {},
   "outputs": [],
   "source": [
    "from counter import get_last_counter\n",
    "\n",
    "bank_id = f\"bank_{get_last_counter()}\"\n"
   ]
  },
  {
   "cell_type": "code",
   "execution_count": 3,
   "metadata": {},
   "outputs": [
    {
     "data": {
      "text/plain": [
       "[b'faiss_index:v1::bank_35',\n",
       " b'faiss_index:v1::bank_34',\n",
       " b'memory_banks:v1::bank_35',\n",
       " b'faiss_index:v1::bank_33',\n",
       " b'memory_banks:v1::bank_34',\n",
       " b'memory_banks:v1::bank_33',\n",
       " b'memory_banks:v1::bank_37',\n",
       " b'faiss_index:v1::bank_36',\n",
       " b'faiss_index:v1::bank_37',\n",
       " b'memory_banks:v1::bank_36']"
      ]
     },
     "execution_count": 3,
     "metadata": {},
     "output_type": "execute_result"
    }
   ],
   "source": [
    "r.keys()"
   ]
  },
  {
   "cell_type": "code",
   "execution_count": 4,
   "metadata": {},
   "outputs": [
    {
     "data": {
      "text/plain": [
       "b'{\"identifier\":\"bank_37\",\"provider_resource_id\":\"bank_37\",\"provider_id\":\"faiss\",\"type\":\"memory_bank\",\"memory_bank_type\":\"vector\",\"embedding_model\":\"all-MiniLM-L6-v2\",\"chunk_size_in_tokens\":512,\"overlap_size_in_tokens\":null}'"
      ]
     },
     "execution_count": 4,
     "metadata": {},
     "output_type": "execute_result"
    }
   ],
   "source": [
    "r.get(f\"memory_banks:v1::{bank_id}\")"
   ]
  },
  {
   "cell_type": "code",
   "execution_count": 6,
   "metadata": {},
   "outputs": [
    {
     "data": {
      "text/plain": [
       "{'redis_version': '7.4.1',\n",
       " 'redis_git_sha1': 0,\n",
       " 'redis_git_dirty': 0,\n",
       " 'redis_build_id': '7fd3520e9c14a41b',\n",
       " 'redis_mode': 'standalone',\n",
       " 'os': 'Linux 6.8.0-49-generic x86_64',\n",
       " 'arch_bits': 64,\n",
       " 'monotonic_clock': 'POSIX clock_gettime',\n",
       " 'multiplexing_api': 'epoll',\n",
       " 'atomicvar_api': 'c11-builtin',\n",
       " 'gcc_version': '11.4.0',\n",
       " 'process_id': 184895,\n",
       " 'process_supervised': 'systemd',\n",
       " 'run_id': 'a2cdc0a08c4d4eb4607a4792fb4e962e225ee8a6',\n",
       " 'tcp_port': 6379,\n",
       " 'server_time_usec': 1733637871975374,\n",
       " 'uptime_in_seconds': 4488,\n",
       " 'uptime_in_days': 0,\n",
       " 'hz': 10,\n",
       " 'configured_hz': 10,\n",
       " 'lru_clock': 5584623,\n",
       " 'executable': '/usr/bin/redis-server',\n",
       " 'config_file': '/etc/redis/redis.conf',\n",
       " 'io_threads_active': 0,\n",
       " 'listener0': {'name': 'tcp', 'bind': '-::1', 'port': 6379},\n",
       " 'connected_clients': 3,\n",
       " 'cluster_connections': 0,\n",
       " 'maxclients': 10000,\n",
       " 'client_recent_max_input_buffer': 8,\n",
       " 'client_recent_max_output_buffer': 0,\n",
       " 'blocked_clients': 0,\n",
       " 'tracking_clients': 0,\n",
       " 'pubsub_clients': 0,\n",
       " 'watching_clients': 0,\n",
       " 'clients_in_timeout_table': 0,\n",
       " 'total_watched_keys': 0,\n",
       " 'total_blocking_keys': 0,\n",
       " 'total_blocking_keys_on_nokey': 0,\n",
       " 'used_memory': 1913802992,\n",
       " 'used_memory_human': '1.78G',\n",
       " 'used_memory_rss': 1845075968,\n",
       " 'used_memory_rss_human': '1.72G',\n",
       " 'used_memory_peak': 2081552352,\n",
       " 'used_memory_peak_human': '1.94G',\n",
       " 'used_memory_peak_perc': '91.94%',\n",
       " 'used_memory_overhead': 953272,\n",
       " 'used_memory_startup': 946272,\n",
       " 'used_memory_dataset': 1912849720,\n",
       " 'used_memory_dataset_perc': '100.00%',\n",
       " 'allocator_allocated': 1914349816,\n",
       " 'allocator_active': 1914679296,\n",
       " 'allocator_resident': 1932398592,\n",
       " 'allocator_muzzy': 0,\n",
       " 'total_system_memory': 232205770752,\n",
       " 'total_system_memory_human': '216.26G',\n",
       " 'used_memory_lua': 31744,\n",
       " 'used_memory_vm_eval': 31744,\n",
       " 'used_memory_lua_human': '31.00K',\n",
       " 'used_memory_scripts_eval': 0,\n",
       " 'number_of_cached_scripts': 0,\n",
       " 'number_of_functions': 0,\n",
       " 'number_of_libraries': 0,\n",
       " 'used_memory_vm_functions': 32768,\n",
       " 'used_memory_vm_total': 64512,\n",
       " 'used_memory_vm_total_human': '63.00K',\n",
       " 'used_memory_functions': 192,\n",
       " 'used_memory_scripts': 192,\n",
       " 'used_memory_scripts_human': '192B',\n",
       " 'maxmemory': 0,\n",
       " 'maxmemory_human': '0B',\n",
       " 'maxmemory_policy': 'noeviction',\n",
       " 'allocator_frag_ratio': 1.0,\n",
       " 'allocator_frag_bytes': 253448,\n",
       " 'allocator_rss_ratio': 1.01,\n",
       " 'allocator_rss_bytes': 17719296,\n",
       " 'rss_overhead_ratio': 0.95,\n",
       " 'rss_overhead_bytes': -87322624,\n",
       " 'mem_fragmentation_ratio': 0.96,\n",
       " 'mem_fragmentation_bytes': -68704136,\n",
       " 'mem_not_counted_for_evict': 0,\n",
       " 'mem_replication_backlog': 0,\n",
       " 'mem_total_replication_buffers': 0,\n",
       " 'mem_clients_slaves': 0,\n",
       " 'mem_clients_normal': 5784,\n",
       " 'mem_cluster_links': 0,\n",
       " 'mem_aof_buffer': 0,\n",
       " 'mem_allocator': 'jemalloc-5.3.0',\n",
       " 'mem_overhead_db_hashtable_rehashing': 0,\n",
       " 'active_defrag_running': 0,\n",
       " 'lazyfree_pending_objects': 0,\n",
       " 'lazyfreed_objects': 0,\n",
       " 'loading': 0,\n",
       " 'async_loading': 0,\n",
       " 'current_cow_peak': 0,\n",
       " 'current_cow_size': 0,\n",
       " 'current_cow_size_age': 0,\n",
       " 'current_fork_perc': 0.0,\n",
       " 'current_save_keys_processed': 0,\n",
       " 'current_save_keys_total': 0,\n",
       " 'rdb_changes_since_last_save': 94,\n",
       " 'rdb_bgsave_in_progress': 0,\n",
       " 'rdb_last_save_time': 1733636129,\n",
       " 'rdb_last_bgsave_status': 'ok',\n",
       " 'rdb_last_bgsave_time_sec': 2,\n",
       " 'rdb_current_bgsave_time_sec': -1,\n",
       " 'rdb_saves': 1,\n",
       " 'rdb_last_cow_size': 1593344,\n",
       " 'rdb_last_load_keys_expired': 0,\n",
       " 'rdb_last_load_keys_loaded': 0,\n",
       " 'aof_enabled': 0,\n",
       " 'aof_rewrite_in_progress': 0,\n",
       " 'aof_rewrite_scheduled': 0,\n",
       " 'aof_last_rewrite_time_sec': -1,\n",
       " 'aof_current_rewrite_time_sec': -1,\n",
       " 'aof_last_bgrewrite_status': 'ok',\n",
       " 'aof_rewrites': 0,\n",
       " 'aof_rewrites_consecutive_failures': 0,\n",
       " 'aof_last_write_status': 'ok',\n",
       " 'aof_last_cow_size': 0,\n",
       " 'module_fork_in_progress': 0,\n",
       " 'module_fork_last_cow_size': 0,\n",
       " 'total_connections_received': 12,\n",
       " 'total_commands_processed': 229,\n",
       " 'instantaneous_ops_per_sec': 0,\n",
       " 'total_net_input_bytes': 41119692794,\n",
       " 'total_net_output_bytes': 406070064,\n",
       " 'total_net_repl_input_bytes': 0,\n",
       " 'total_net_repl_output_bytes': 0,\n",
       " 'instantaneous_input_kbps': 0.0,\n",
       " 'instantaneous_output_kbps': 0.0,\n",
       " 'instantaneous_input_repl_kbps': 0.0,\n",
       " 'instantaneous_output_repl_kbps': 0.0,\n",
       " 'rejected_connections': 0,\n",
       " 'sync_full': 0,\n",
       " 'sync_partial_ok': 0,\n",
       " 'sync_partial_err': 0,\n",
       " 'expired_subkeys': 0,\n",
       " 'expired_keys': 0,\n",
       " 'expired_stale_perc': 0.0,\n",
       " 'expired_time_cap_reached_count': 0,\n",
       " 'expire_cycle_cpu_milliseconds': 22,\n",
       " 'evicted_keys': 0,\n",
       " 'evicted_clients': 0,\n",
       " 'evicted_scripts': 0,\n",
       " 'total_eviction_exceeded_time': 0,\n",
       " 'current_eviction_exceeded_time': 0,\n",
       " 'keyspace_hits': 4,\n",
       " 'keyspace_misses': 5,\n",
       " 'pubsub_channels': 0,\n",
       " 'pubsub_patterns': 0,\n",
       " 'pubsubshard_channels': 0,\n",
       " 'latest_fork_usec': 21784,\n",
       " 'total_forks': 1,\n",
       " 'migrate_cached_sockets': 0,\n",
       " 'slave_expires_tracked_keys': 0,\n",
       " 'active_defrag_hits': 0,\n",
       " 'active_defrag_misses': 0,\n",
       " 'active_defrag_key_hits': 0,\n",
       " 'active_defrag_key_misses': 0,\n",
       " 'total_active_defrag_time': 0,\n",
       " 'current_active_defrag_time': 0,\n",
       " 'tracking_total_keys': 0,\n",
       " 'tracking_total_items': 0,\n",
       " 'tracking_total_prefixes': 0,\n",
       " 'unexpected_error_replies': 0,\n",
       " 'total_error_replies': 7,\n",
       " 'dump_payload_sanitizations': 0,\n",
       " 'total_reads_processed': 23048,\n",
       " 'total_writes_processed': 478,\n",
       " 'io_threaded_reads_processed': 0,\n",
       " 'io_threaded_writes_processed': 0,\n",
       " 'client_query_buffer_limit_disconnections': 0,\n",
       " 'client_output_buffer_limit_disconnections': 0,\n",
       " 'reply_buffer_shrinks': 13,\n",
       " 'reply_buffer_expands': 2,\n",
       " 'eventloop_cycles': 67663,\n",
       " 'eventloop_duration_sum': 43698654,\n",
       " 'eventloop_duration_cmd_sum': 4599893,\n",
       " 'instantaneous_eventloop_cycles_per_sec': 9,\n",
       " 'instantaneous_eventloop_duration_usec': 226,\n",
       " 'acl_access_denied_auth': 0,\n",
       " 'acl_access_denied_cmd': 0,\n",
       " 'acl_access_denied_key': 0,\n",
       " 'acl_access_denied_channel': 0,\n",
       " 'role': 'master',\n",
       " 'connected_slaves': 0,\n",
       " 'master_failover_state': 'no-failover',\n",
       " 'master_replid': '8eff6914e2e114881c3377208d69de40a61004e4',\n",
       " 'master_replid2': 0,\n",
       " 'master_repl_offset': 0,\n",
       " 'second_repl_offset': -1,\n",
       " 'repl_backlog_active': 0,\n",
       " 'repl_backlog_size': 1048576,\n",
       " 'repl_backlog_first_byte_offset': 0,\n",
       " 'repl_backlog_histlen': 0,\n",
       " 'used_cpu_sys': 36.483038,\n",
       " 'used_cpu_user': 8.149569,\n",
       " 'used_cpu_sys_children': 0.351869,\n",
       " 'used_cpu_user_children': 1.716344,\n",
       " 'used_cpu_sys_main_thread': 36.473649,\n",
       " 'used_cpu_user_main_thread': 8.148488,\n",
       " 'errorstat_ERR': {'count': 7},\n",
       " 'cluster_enabled': 0,\n",
       " 'db0': {'keys': 10, 'expires': 0, 'avg_ttl': 0, 'subexpiry': 0}}"
      ]
     },
     "execution_count": 6,
     "metadata": {},
     "output_type": "execute_result"
    }
   ],
   "source": [
    "r.info()"
   ]
  },
  {
   "cell_type": "code",
   "execution_count": 9,
   "metadata": {},
   "outputs": [
    {
     "data": {
      "text/plain": [
       "dict_keys(['id_by_index', 'chunk_by_index', 'faiss_index'])"
      ]
     },
     "metadata": {},
     "output_type": "display_data"
    },
    {
     "data": {
      "text/plain": [
       "9923"
      ]
     },
     "metadata": {},
     "output_type": "display_data"
    }
   ],
   "source": [
    "from json import loads\n",
    "from IPython.display import display\n",
    "\n",
    "index = loads(r.get(f\"faiss_index:v1::bank_33\"))\n",
    "display(index.keys())\n",
    "display(len(index['id_by_index']))"
   ]
  },
  {
   "cell_type": "code",
   "execution_count": null,
   "metadata": {},
   "outputs": [],
   "source": [
    "import os\n",
    "from llama_stack_client import LlamaStackClient\n",
    "\n",
    "# Test run\n",
    "memory_bank_name = os.getenv(\"MEMORY_BANK_NAME\")\n",
    "\n",
    "client = LlamaStackClient(\n",
    "    base_url=\"http://localhost:5001\",\n",
    ")\n",
    "\n",
    "response = client.memory.query(\n",
    "    bank_id=memory_bank_name,\n",
    "    query=[\"Hello World\"],\n",
    "    params={\"max_chunks\": 10},\n",
    ")\n",
    "\n",
    "display(response)\n",
    "\n",
    "for chunk, score in zip(response.chunks, response.scores):\n",
    "    print(chunk)\n",
    "    print(score)\n"
   ]
  },
  {
   "cell_type": "code",
   "execution_count": null,
   "metadata": {},
   "outputs": [],
   "source": [
    "import pandas as pd\n",
    "\n",
    "datasets = {\n",
    "    \"narrativeqa\": \"data/narrativeqa.parquet\",\n",
    "}\n",
    "\n",
    "df = pd.read_parquet(datasets[\"narrativeqa\"])\n",
    "display(df.iloc[87][\"questions\"])\n",
    "display(df.iloc[87][\"context\"])\n",
    "df.head()"
   ]
  }
 ],
 "metadata": {
  "kernelspec": {
   "display_name": "Python 3 (ipykernel)",
   "language": "python",
   "name": "python3"
  },
  "language_info": {
   "codemirror_mode": {
    "name": "ipython",
    "version": 3
   },
   "file_extension": ".py",
   "mimetype": "text/x-python",
   "name": "python",
   "nbconvert_exporter": "python",
   "pygments_lexer": "ipython3",
   "version": "3.10.15"
  }
 },
 "nbformat": 4,
 "nbformat_minor": 2
}
