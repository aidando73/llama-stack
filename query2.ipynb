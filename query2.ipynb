{
 "cells": [
  {
   "cell_type": "code",
   "execution_count": 53,
   "metadata": {},
   "outputs": [
    {
     "name": "stdout",
     "output_type": "stream",
     "text": [
      "Reading package lists... Done\n",
      "Building dependency tree... Done\n",
      "Reading state information... Done\n",
      "sqlite3 is already the newest version (3.37.2-2ubuntu0.3).\n",
      "0 upgraded, 0 newly installed, 0 to remove and 29 not upgraded.\n",
      "-rw-r--r-- 1 ubuntu ubuntu 70M Dec  7 06:10 faiss_store.db\n",
      "env: MEMORY_BANK_NAME=bank_pdf_paper_24\n"
     ]
    }
   ],
   "source": [
    "\n",
    "!sudo apt install sqlite3\n",
    "!cp $SQLITE_STORE_DIR/faiss_store.db .\n",
    "!ls -lh faiss_store.db\n",
    "\n",
    "counter = !cat counter.txt\n",
    "counter = int(counter[0]) - 1\n",
    "%env MEMORY_BANK_NAME=bank_pdf_paper_{counter}\n"
   ]
  },
  {
   "cell_type": "code",
   "execution_count": 54,
   "metadata": {},
   "outputs": [],
   "source": [
    "%%bash\n",
    "echo \"select value from kvstore where key = 'faiss_index:v1::${MEMORY_BANK_NAME}';\" \\\n",
    "  | sqlite3 faiss_store.db \\\n",
    "  > faiss_index.json\n"
   ]
  },
  {
   "cell_type": "code",
   "execution_count": 55,
   "metadata": {},
   "outputs": [
    {
     "name": "stdout",
     "output_type": "stream",
     "text": [
      "-rw-rw-r-- 1 ubuntu ubuntu 13M Dec  7 06:10 faiss_index.json\n"
     ]
    }
   ],
   "source": [
    "!ls -lh faiss_index.json"
   ]
  },
  {
   "cell_type": "code",
   "execution_count": 56,
   "metadata": {},
   "outputs": [
    {
     "data": {
      "text/plain": [
       "dict_keys(['id_by_index', 'chunk_by_index', 'faiss_index'])"
      ]
     },
     "metadata": {},
     "output_type": "display_data"
    },
    {
     "data": {
      "text/plain": [
       "252"
      ]
     },
     "metadata": {},
     "output_type": "display_data"
    },
    {
     "data": {
      "text/plain": [
       "252"
      ]
     },
     "metadata": {},
     "output_type": "display_data"
    },
    {
     "data": {
      "text/plain": [
       "12903900"
      ]
     },
     "metadata": {},
     "output_type": "display_data"
    }
   ],
   "source": [
    "import json\n",
    "from IPython.display import display\n",
    "\n",
    "# Load into dict\n",
    "faiss_index = json.load(open('faiss_index.json'))\n",
    "display(faiss_index.keys())\n",
    "display(len(faiss_index['id_by_index']))\n",
    "display(len(faiss_index['chunk_by_index']))\n",
    "display(len(faiss_index['faiss_index']))\n",
    "\n",
    "# 252 so mostly all contexts are a single chunk"
   ]
  },
  {
   "cell_type": "code",
   "execution_count": 52,
   "metadata": {},
   "outputs": [
    {
     "data": {
      "text/plain": [
       "174.0"
      ]
     },
     "execution_count": 52,
     "metadata": {},
     "output_type": "execute_result"
    }
   ],
   "source": []
  },
  {
   "cell_type": "code",
   "execution_count": null,
   "metadata": {},
   "outputs": [],
   "source": []
  }
 ],
 "metadata": {
  "kernelspec": {
   "display_name": "Python 3 (ipykernel)",
   "language": "python",
   "name": "python3"
  },
  "language_info": {
   "codemirror_mode": {
    "name": "ipython",
    "version": 3
   },
   "file_extension": ".py",
   "mimetype": "text/x-python",
   "name": "python",
   "nbconvert_exporter": "python",
   "pygments_lexer": "ipython3",
   "version": "3.10.15"
  }
 },
 "nbformat": 4,
 "nbformat_minor": 2
}
