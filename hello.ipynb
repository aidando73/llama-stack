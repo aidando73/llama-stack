{
 "cells": [
  {
   "cell_type": "code",
   "execution_count": 2,
   "metadata": {},
   "outputs": [
    {
     "data": {
      "text/plain": [
       "ChatCompletionResponse(completion_message=CompletionMessage(content=\"Hello there! How are you today? I'm excited to be your AI companion. What brings you to our conversation today? Do you have a specific topic you'd like to discuss or ask about? I'm all ears!\", role='assistant', stop_reason='end_of_turn', tool_calls=[]), logprobs=None)"
      ]
     },
     "metadata": {},
     "output_type": "display_data"
    }
   ],
   "source": [
    "from llama_stack_client import LlamaStackClient\n",
    "from IPython.display import display\n",
    "\n",
    "client = LlamaStackClient(\n",
    "    base_url=\"http://localhost:5001\",\n",
    ")\n",
    "\n",
    "response = client.inference.chat_completion(\n",
    "    model_id=\"Llama3.2-3B-Instruct\",\n",
    "    messages=[\n",
    "        {\"role\": \"user\", \"content\": \"Hello, world client!\"},\n",
    "    ],\n",
    "    # stream=True,\n",
    ")\n",
    "\n",
    "display(response)\n",
    "\n",
    "# for chunk in response:\n",
    "    # print(chunk)\n"
   ]
  },
  {
   "cell_type": "code",
   "execution_count": 5,
   "metadata": {},
   "outputs": [
    {
     "data": {
      "text/plain": [
       "{'inference': [ProviderInfo(provider_id='groq', provider_type='remote::groq')],\n",
       " 'memory': [ProviderInfo(provider_id='faiss', provider_type='inline::faiss')],\n",
       " 'safety': [ProviderInfo(provider_id='llama-guard', provider_type='inline::llama-guard')],\n",
       " 'agents': [ProviderInfo(provider_id='meta-reference', provider_type='inline::meta-reference')],\n",
       " 'telemetry': [ProviderInfo(provider_id='meta-reference', provider_type='inline::meta-reference')],\n",
       " 'eval': [ProviderInfo(provider_id='meta-reference', provider_type='inline::meta-reference')],\n",
       " 'datasetio': [ProviderInfo(provider_id='localfs', provider_type='inline::localfs')],\n",
       " 'scoring': [ProviderInfo(provider_id='basic', provider_type='inline::basic')]}"
      ]
     },
     "execution_count": 5,
     "metadata": {},
     "output_type": "execute_result"
    }
   ],
   "source": [
    "client.providers.list()"
   ]
  },
  {
   "cell_type": "code",
   "execution_count": 8,
   "metadata": {},
   "outputs": [
    {
     "name": "stdout",
     "output_type": "stream",
     "text": [
      "ASGI (Asynchronous Server Gateway Interface) is a Python specification for server-side APIs. It allows developers to create asynchronous, concurrent, and scalable web applications. ASGI is designed to be a successor to the WSGI (Web Server Gateway Interface) standard, which is used for traditional synchronous web applications.\n",
      "\n",
      "Here's how ASGI works:\n",
      "\n",
      "**ASGI Components**\n",
      "\n",
      "1. **ASGI Application**: The ASGI application is the main entry point for the ASGI server. It's responsible for handling requests and sending responses. ASGI applications are similar to WSGI applications, but they're designed to handle asynchronous requests and responses.\n",
      "2. **ASGI Server**: The ASGI server is responsible for handling incoming requests and forwarding them to the ASGI application. ASGI servers can be implemented using various technologies, such as asyncio, uvloop, or traditional threading.\n",
      "3. **ASGI Protocol**: The ASGI protocol defines the communication between the ASGI application and the ASGI server. It specifies how requests and responses are serialized and transmitted over the network.\n",
      "\n",
      "**ASGI Request and Response**\n",
      "\n",
      "1. **Request**: An ASGI request consists of two parts:\n",
      "\t* **Message**: The message is the underlying data that represents the request. It includes information such as the request method, URI, headers, and body.\n",
      "\t* **Body**: The body is the actual data sent in the request, such as JSON or form data.\n",
      "2. **Response**: An ASGI response consists of two parts:\n",
      "\t* **Message**: The message is the response to the request. It includes information such as the response status code, headers, and body.\n",
      "\t* **Body**: The body is the actual data sent in the response, such as JSON or HTML.\n",
      "\n",
      "**ASGI Protocol Messages**\n",
      "\n",
      "The ASGI protocol uses a text-based protocol to communicate between the ASGI application and the ASGI server. There are three types of messages:\n",
      "\n",
      "1. **onCONNECT**: Sent from the ASGI application to the ASGI server when a new connection is established.\n",
      "2. **onSEND**: Sent from the ASGI application to the ASGI server to transmit request data.\n",
      "3. **onRECV**: Sent from the ASGI server to the ASGI application when request data is received.\n",
      "4. **onSHUTDOWN**: Sent from the ASGI application to the ASGI server when the connection is closed.\n",
      "\n",
      "**How ASGI Works**\n",
      "\n",
      "Here's an example of how ASGI works:\n",
      "\n",
      "1. A client sends a request to the ASGI server.\n",
      "2. The ASGI server creates a new connection and sends an `onCONNECT` message to the ASGI application.\n",
      "3. The ASGI application receives the `onCONNECT` message and initializes a new request.\n",
      "4. The ASGI application sends an `onSEND` message to the ASGI server to transmit the request data.\n",
      "5. The ASGI server receives the request data and sends an `onRECV` message to the ASGI application.\n",
      "6. The ASGI application processes the request and generates a response.\n",
      "7. The ASGI application sends an `onSEND` message to the ASGI server to transmit the response data.\n",
      "8. The ASGI server receives the response data and sends it back to the client.\n",
      "\n",
      "**Benefits of ASGI**\n",
      "\n",
      "1. **Concurrency**: ASGI allows for true concurrency, enabling multiple requests to be handled simultaneously.\n",
      "2. **Scalability**: ASGI applications can be scaled vertically or horizontally to handle increasing traffic.\n",
      "3. **Low-overhead**: ASGI applications have lower overhead compared to traditional synchronous web applications.\n",
      "4. **Flexibility**: ASGI applications can be implemented using various programming languages and frameworks.\n",
      "\n",
      "In summary, ASGI is a Python specification that enables asynchronous, concurrent, and scalable web applications. It provides a lightweight and flexible framework for building high-performance web applications."
     ]
    }
   ],
   "source": [
    "response = client.inference.chat_completion(\n",
    "    model_id=\"Llama3.2-3B-Instruct\",\n",
    "    messages=[\n",
    "        {\"role\": \"user\", \"content\": \"Explain to me how ASGI in python works\"},\n",
    "    ],\n",
    "    stream=True,\n",
    ")\n",
    "\n",
    "for chunk in response:\n",
    "    print(chunk.event.delta, end='')\n"
   ]
  }
 ],
 "metadata": {
  "kernelspec": {
   "display_name": "Python 3",
   "language": "python",
   "name": "python3"
  },
  "language_info": {
   "codemirror_mode": {
    "name": "ipython",
    "version": 3
   },
   "file_extension": ".py",
   "mimetype": "text/x-python",
   "name": "python",
   "nbconvert_exporter": "python",
   "pygments_lexer": "ipython3",
   "version": "3.10.15"
  }
 },
 "nbformat": 4,
 "nbformat_minor": 2
}
