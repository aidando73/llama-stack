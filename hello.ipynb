{
 "cells": [
  {
   "cell_type": "code",
   "execution_count": 15,
   "metadata": {},
   "outputs": [
    {
     "name": "stdout",
     "output_type": "stream",
     "text": [
      "<llama_stack_client.Stream object at 0x120da1d50>\n",
      "ChatCompletionResponseStreamChunk(event=ChatCompletionResponseStreamChunkEvent(delta='a', event_type='start', logprobs=None, stop_reason=None))\n",
      "ChatCompletionResponseStreamChunk(event=ChatCompletionResponseStreamChunkEvent(delta='b', event_type='progress', logprobs=None, stop_reason=None))\n",
      "ChatCompletionResponseStreamChunk(event=ChatCompletionResponseStreamChunkEvent(delta='c', event_type='progress', logprobs=None, stop_reason=None))\n",
      "ChatCompletionResponseStreamChunk(event=ChatCompletionResponseStreamChunkEvent(delta='d', event_type='progress', logprobs=None, stop_reason=None))\n",
      "ChatCompletionResponseStreamChunk(event=ChatCompletionResponseStreamChunkEvent(delta='e', event_type='progress', logprobs=None, stop_reason=None))\n",
      "ChatCompletionResponseStreamChunk(event=ChatCompletionResponseStreamChunkEvent(delta='f', event_type='progress', logprobs=None, stop_reason=None))\n",
      "ChatCompletionResponseStreamChunk(event=ChatCompletionResponseStreamChunkEvent(delta='g', event_type='progress', logprobs=None, stop_reason=None))\n",
      "ChatCompletionResponseStreamChunk(event=ChatCompletionResponseStreamChunkEvent(delta='h', event_type='progress', logprobs=None, stop_reason=None))\n",
      "ChatCompletionResponseStreamChunk(event=ChatCompletionResponseStreamChunkEvent(delta='i', event_type='progress', logprobs=None, stop_reason=None))\n",
      "ChatCompletionResponseStreamChunk(event=ChatCompletionResponseStreamChunkEvent(delta='j', event_type='progress', logprobs=None, stop_reason=None))\n",
      "ChatCompletionResponseStreamChunk(event=ChatCompletionResponseStreamChunkEvent(delta='k', event_type='progress', logprobs=None, stop_reason=None))\n",
      "ChatCompletionResponseStreamChunk(event=ChatCompletionResponseStreamChunkEvent(delta='l', event_type='progress', logprobs=None, stop_reason=None))\n",
      "ChatCompletionResponseStreamChunk(event=ChatCompletionResponseStreamChunkEvent(delta='m', event_type='progress', logprobs=None, stop_reason=None))\n",
      "ChatCompletionResponseStreamChunk(event=ChatCompletionResponseStreamChunkEvent(delta='n', event_type='progress', logprobs=None, stop_reason=None))\n",
      "ChatCompletionResponseStreamChunk(event=ChatCompletionResponseStreamChunkEvent(delta='o', event_type='progress', logprobs=None, stop_reason=None))\n",
      "ChatCompletionResponseStreamChunk(event=ChatCompletionResponseStreamChunkEvent(delta='p', event_type='progress', logprobs=None, stop_reason=None))\n",
      "ChatCompletionResponseStreamChunk(event=ChatCompletionResponseStreamChunkEvent(delta='q', event_type='progress', logprobs=None, stop_reason=None))\n",
      "ChatCompletionResponseStreamChunk(event=ChatCompletionResponseStreamChunkEvent(delta='r', event_type='progress', logprobs=None, stop_reason=None))\n",
      "ChatCompletionResponseStreamChunk(event=ChatCompletionResponseStreamChunkEvent(delta='s', event_type='progress', logprobs=None, stop_reason=None))\n",
      "ChatCompletionResponseStreamChunk(event=ChatCompletionResponseStreamChunkEvent(delta='t', event_type='progress', logprobs=None, stop_reason=None))\n",
      "ChatCompletionResponseStreamChunk(event=ChatCompletionResponseStreamChunkEvent(delta='u', event_type='progress', logprobs=None, stop_reason=None))\n",
      "ChatCompletionResponseStreamChunk(event=ChatCompletionResponseStreamChunkEvent(delta='v', event_type='progress', logprobs=None, stop_reason=None))\n",
      "ChatCompletionResponseStreamChunk(event=ChatCompletionResponseStreamChunkEvent(delta='w', event_type='progress', logprobs=None, stop_reason=None))\n",
      "ChatCompletionResponseStreamChunk(event=ChatCompletionResponseStreamChunkEvent(delta='x', event_type='progress', logprobs=None, stop_reason=None))\n",
      "ChatCompletionResponseStreamChunk(event=ChatCompletionResponseStreamChunkEvent(delta='y', event_type='progress', logprobs=None, stop_reason=None))\n",
      "ChatCompletionResponseStreamChunk(event=ChatCompletionResponseStreamChunkEvent(delta='z', event_type='complete', logprobs=None, stop_reason='end_of_turn'))\n"
     ]
    }
   ],
   "source": [
    "from llama_stack_client import LlamaStackClient\n",
    "\n",
    "client = LlamaStackClient(\n",
    "    base_url=\"http://localhost:5001\",\n",
    ")\n",
    "\n",
    "response = client.inference.chat_completion(\n",
    "    model_id=\"meta-llama/Llama-3.2-3B-Instruct\",\n",
    "    messages=[\n",
    "        {\"role\": \"user\", \"content\": [\"Hello, world client!\"]},\n",
    "    ],\n",
    "    stream=True,\n",
    ")\n",
    "\n",
    "print(response)\n",
    "\n",
    "for chunk in response:\n",
    "    print(chunk)\n"
   ]
  }
 ],
 "metadata": {
  "kernelspec": {
   "display_name": "Python 3",
   "language": "python",
   "name": "python3"
  },
  "language_info": {
   "codemirror_mode": {
    "name": "ipython",
    "version": 3
   },
   "file_extension": ".py",
   "mimetype": "text/x-python",
   "name": "python",
   "nbconvert_exporter": "python",
   "pygments_lexer": "ipython3",
   "version": "3.10.15"
  }
 },
 "nbformat": 4,
 "nbformat_minor": 2
}
