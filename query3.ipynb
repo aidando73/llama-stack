{
 "cells": [
  {
   "cell_type": "code",
   "execution_count": 8,
   "metadata": {},
   "outputs": [
    {
     "name": "stdout",
     "output_type": "stream",
     "text": [
      "QueryDocumentsResponse(chunks=[Chunk(content='The transistor is the fundamental building block of modern electronic devices, and is ubiquitous in modern electronic systems. First conceived by Julius Lilienfeld in 1926 and practically implemented in 1947 by American physicists John Bardeen, Walter Brattain, and William Shockley, the transistor revolutionized the field of electronics, and paved the way for smaller and cheaper radios, calculators, and computers, among other things. The transistor is on the list of IEEE milestones in electronics, and Bardeen, Brattain, and Shockley shared the 1956 Nobel Prize in Physics for their achievement.', document_id='87', token_count=120), Chunk(content='FETs are further divided into depletion-mode and enhancement-mode types, depending on whether the channel is turned on or off with zero gate-to-source voltage. For enhancement mode, the channel is off at zero bias, and a gate potential can \"enhance\" the conduction. For the depletion mode, the channel is on at zero bias, and a gate potential (of the opposite polarity) can \"deplete\" the channel, reducing conduction. For either mode, a more positive gate voltage corresponds to a higher current for n-channel devices and a lower current for p-channel devices. Nearly all JFETs are depletion-mode because the diode junctions would forward bias and conduct if they were enhancement-mode devices; most IGFETs are enhancement-mode types.', document_id='7', token_count=155), Chunk(content='Developed at roughly the same time as the USB 3.1 specification, but distinct from it, the USB Type-C Specification 1.0 was finalized in August 2014 and defines a new small reversible-plug connector for USB devices. The Type-C plug connects to both hosts and devices, replacing various Type-A and Type-B connectors and cables with a standard meant to be future-proof, similar to Apple Lightning and Thunderbolt. The 24-pin double-sided connector provides four power/ground pairs, two differential pairs for USB 2.0 data bus (though only one pair is implemented in a Type-C cable), four pairs for high-speed data bus, two \"sideband use\" pins, and two configuration pins for cable orientation detection, dedicated biphase mark code (BMC) configuration data channel, and VCONN +5 V power for active cables. Type-A and Type-B adaptors and cables are required for older devices to plug into Type-C hosts. Adapters and cables with a Type-C receptacle are not allowed.[citation needed]', document_id='101', token_count=214)], scores=[1.0806623511153475, 0.7119329147763154, 0.6882722656308652])\n"
     ]
    }
   ],
   "source": [
    "# Spot checks\n",
    "import os\n",
    "from llama_stack_client import LlamaStackClient\n",
    "from counter import get_last_counter\n",
    "\n",
    "question = \"What list is the transistor on?\"\n",
    "\n",
    "memory_bank_name = f\"bank_pdf_paper_{get_last_counter()}\"\n",
    "\n",
    "client = LlamaStackClient(\n",
    "    base_url=\"http://localhost:5001\",\n",
    ")\n",
    "\n",
    "response = client.memory.query(\n",
    "    bank_id=memory_bank_name,\n",
    "    query=[question],\n",
    "    params={\"max_chunks\": 3},\n",
    ")\n",
    "\n",
    "print(response)"
   ]
  }
 ],
 "metadata": {
  "kernelspec": {
   "display_name": "Python 3 (ipykernel)",
   "language": "python",
   "name": "python3"
  }
 },
 "nbformat": 4,
 "nbformat_minor": 2
}
