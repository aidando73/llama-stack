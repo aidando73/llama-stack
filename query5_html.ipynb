{
 "cells": [
  {
   "cell_type": "code",
   "execution_count": 8,
   "metadata": {},
   "outputs": [],
   "source": [
    "\n",
    "import redis\n",
    "\n",
    "r = redis.Redis(host='localhost', port=6379, db=0)"
   ]
  },
  {
   "cell_type": "code",
   "execution_count": 9,
   "metadata": {},
   "outputs": [
    {
     "data": {
      "text/plain": [
       "'bank_58'"
      ]
     },
     "execution_count": 9,
     "metadata": {},
     "output_type": "execute_result"
    }
   ],
   "source": [
    "from counter import get_last_counter\n",
    "\n",
    "bank_id = f\"bank_{get_last_counter()}\"\n",
    "# bank_id = \"bank_52\"\n",
    "bank_id"
   ]
  },
  {
   "cell_type": "code",
   "execution_count": 10,
   "metadata": {},
   "outputs": [
    {
     "data": {
      "text/plain": [
       "dict_keys(['id_by_index', 'chunk_by_index', 'faiss_index'])"
      ]
     },
     "metadata": {},
     "output_type": "display_data"
    },
    {
     "data": {
      "text/plain": [
       "8258"
      ]
     },
     "metadata": {},
     "output_type": "display_data"
    }
   ],
   "source": [
    "from json import loads\n",
    "from IPython.display import display\n",
    "\n",
    "index = loads(r.get(f\"faiss_index:v1::{bank_id}\"))\n",
    "# Write index to JSON file\n",
    "import json\n",
    "with open('faiss_index.json', 'w') as f:\n",
    "    json.dump(index, f, indent=2)\n",
    "display(index.keys())\n",
    "display(len(index['id_by_index']))"
   ]
  },
  {
   "cell_type": "code",
   "execution_count": 11,
   "metadata": {},
   "outputs": [
    {
     "data": {
      "text/plain": [
       "QueryDocumentsResponse(chunks=[Chunk(content=' 28.284a8 8 0 1 0 11.314 11.314l28.284-28.284a40 40 0 0 1 56.568 56.567l-28.285 28.285a8 8 0 0 0 11.315 11.314l28.284-28.284a56.065 56.065 0 0 0 0-79.196z\" fill=\"currentColor\"></path></svg></span></a> <span><strong>This</strong> model is a PyTorch [torch.nn.Module](https —//pytorch.org/docs/stable/nn.html#torch.nn.Module) sub-class. Use</span></span> </li><li class=\"text-base !pl-4 my-3 rounded \"><span class=\"group flex space-x-1.5 items-start\"><a id=\"transformers.UperNetForSemanticSegmentation.it\" class=\"header-link block pr-0.5 text-lg no-hover:hidden with-hover:absolute with-hover:p-1.5 with-hover:opacity-0 with-hover:group-hover:opacity-100 with-hover:right-full\" href=\"#transformers.UperNetForSemanticSegmentation.it\"><span><svg class=\"text-smd\" xmlns=\"http://www.w3.org/2000/svg\" xmlns:xlink=\"http://www.w3.org/1999/xlink\" aria-hidden=\"true\" role=\"img\" width=\"1em\" height=\"1em\" preserveAspectRatio=\"xMidYMid meet\" viewBox=\"0 0 256 256\"><path d=\"M167.594 88.393a8.001 8.001 0 0 1 0 11.314l-67.882 67.882a8 8 0 1 1-11.314-11.315l67.882-67.881a8.003 8.003 0 0 1 11.314 0zm-28.287 84.86l-28.284 28.284a40 40 0 0 1-56.567-56.567l28.284-28.284a8 8 0 0 0-11.315-11.315l-28.284 28.284a56 56 0 0 0 79.196', document_id='11', token_count=512), Chunk(content=' HTML_TAG_END --> <span class=\"flex-auto border-t-2 border-gray-100 dark:border-gray-700\"></span></div> <p class=\"text-base\"><!-- HTML_TAG_START -->\\n</p><p>A <a href=\"/docs/transformers/v4.34.0/en/main_classes/output#transformers.modeling_outputs.BaseModelOutput\">transformers.modeling_outputs.BaseModelOutput</a> or a tuple of\\n<code>torch.FloatTensor</code> (if <code>return_dict=False</code> is passed or when <code>config.return_dict=False</code>) comprising various\\nelements depending on the configuration (<a href=\"/docs/transformers/v4.34.0/en/model_doc/timesformer#transformers.TimesformerConfig\">TimesformerConfig</a>) and inputs.</p>\\n<ul>\\n<li>\\n<p><strong>last_hidden_state</strong> (<code>torch.FloatTensor</code> of shape <code>(batch_size, sequence_length, hidden_size)</code>) — Sequence of hidden-states at the output of the last layer of the model.</p>\\n</li>\\n<li>\\n<p><strong>hidden_states</strong> (<code>tuple(torch.FloatTensor)</code>, <em>optional</em>, returned when <code>output_hidden_states=True</code> is passed or when <code>config.output_hidden_states=True</code>) — Tuple of <code>torch.FloatTensor</code> (one for the output of the embeddings, if the model has an embedding layer, +\\none for the output of each layer) of shape <code>(batch_size, sequence_length, hidden_size)</code>.</p>\\n<p>Hidden-states of the model at the output of each layer plus the optional initial embedding outputs.</p>\\n</li>\\n<li>\\n<p><strong>attentions</strong> (<code>tuple(torch.FloatTensor)</code>, <em>optional</em>, returned when <code>output_attentions=True</code> is passed or when <code>config.output_attentions=True</code>) — Tuple of <code>torch.FloatTensor</code> (one for each layer) of shape <code>(batch_size, num_heads, sequence_length, sequence_length)</code>.</p>\\n<p>Attentions weights after the attention softmax, used to compute the weighted average in the self-attention\\nheads.</p>\\n</li>\\n</ul>\\n<!-- HTML_TAG_END --><p></p> </div></div> <p data-svelte-h=\"svelte-1bo', document_id='19', token_count=512), Chunk(content='a href=\"/docs/transformers/v4.34.0/en/main_classes/model#transformers.PreTrainedModel.from_pretrained\">from_pretrained()</a> method to load the model weights.<!-- HTML_TAG_END --> </span></span> </li></ul>   </div></div> <p data-svelte-h=\"svelte-gln3qs\">The bare TimeSformer Model transformer outputting raw hidden-states without any specific head on top.\\nThis model is a PyTorch <a href=\"https://pytorch.org/docs/stable/nn.html#torch.nn.Module\" rel=\"nofollow\">torch.nn.Module</a> subclass. Use it\\nas a regular PyTorch Module and refer to the PyTorch documentation for all matter related to general usage and\\nbehavior.</p> <div class=\"docstring border-l-2 border-t-2 pl-4 pt-3.5 border-gray-100 rounded-tl-xl mb-6 mt-8\">  <div><span class=\"group flex space-x-1.5 items-center text-gray-800 bg-gradient-to-r rounded-tr-lg -mt-4 -ml-4 pt-3 px-2.5\" id=\"transformers.TimesformerModel.forward\"><!-- HTML_TAG_START --><h4 class=\"!m-0\"><span class=\"flex-1 rounded-xl py-0.5 break-all bg-gradient-to-r from-blue-50/60 to-white dark:from-gray-900 dark:to-gray-950 text-blue-700 dark:text-blue-300 font-medium px-2\"><svg width=\"1em\" height=\"1em\" viewBox=\"0 0 32 33\" class=\"mr-1 inline-block -mt-0.5\" xmlns=\"http://www.w3.org/2000/svg\"><path d=\"M5.80566 18.3545C4.90766 17.4565 4.90766 16.0005 5.80566 15.1025L14.3768 6.53142C15.2748 5.63342 16.7307 5.63342 17.6287 6.53142L26.1999 15.1025C27.0979 16.0005 27.0979 17.4565 26.1999 18.3545L17.6287 26.9256C16.7307 ', document_id='19', token_count=512), Chunk(content=';tflite&quot;,&quot;url&quot;:&quot;/docs/transformers/v4.34.0/en/tflite&quot;},{&quot;title&quot;:&quot;Export to TorchScript&quot;,&quot;isExpanded&quot;:true,&quot;id&quot;:&quot;torchscript&quot;,&quot;url&quot;:&quot;/docs/transformers/v4.34.0/en/torchscript&quot;},{&quot;title&quot;:&quot;Benchmarks&quot;,&quot;isExpanded&quot;:true,&quot;id&quot;:&quot;benchmarks&quot;,&quot;url&quot;:&quot;/docs/transformers/v4.34.0/en/benchmarks&quot;},{&quot;title&quot;:&quot;Notebooks with examples&quot;,&quot;isExpanded&quot;:true,&quot;id&quot;:&quot;notebooks&quot;,&quot;url&quot;:&quot;/docs/transformers/v4.34.0/en/notebooks&quot;},{&quot;title&quot;:&quot;Community resources&quot;,&quot;isExpanded&quot;:true,&quot;id&quot;:&quot;community&quot;,&quot;url&quot;:&quot;/docs/transformers/v4.34.0/en/community&quot;},{&quot;title&quot;:&quot;Custom Tools and Prompts&quot;,&quot;isExpanded&quot;:true,&quot;id&quot;:&quot;custom_tools&quot;,&quot;url&quot;:&quot;/docs/transformers/v4.34.0/en/custom_tools&quot;},{&quot;title&quot;:&quot;Troubleshoot&quot;,&quot;isExpanded&quot;:true,&quot;id&quot;:&quot;troubleshooting&quot;,&quot;url&quot;:&quot;/docs/transformers/v4.34.0/en/troubleshooting&quot;}]},{&quot;title&quot;:&quot;Performance and scalability&quot;,&quot;isExpanded&quot;:true,&quot;sections&quot;:[{&quot;title&quot;:&quot;Overview&quot;,&quot;isExpanded&quot;:true,&quot;id&quot;:&quot;performance&quot;,&quot;url&quot;:&quot;/docs/transformers/v4.34.0/en/performance&quot;},{&quot;title&quot;:&quot;Efficient training techniques&quot;,&quot;isExpanded&quot;:true,&quot;sections', document_id='42', token_count=512), Chunk(content=';:&quot;tflite&quot;,&quot;url&quot;:&quot;/docs/transformers/v4.34.0/en/tflite&quot;},{&quot;title&quot;:&quot;Export to TorchScript&quot;,&quot;isExpanded&quot;:true,&quot;id&quot;:&quot;torchscript&quot;,&quot;url&quot;:&quot;/docs/transformers/v4.34.0/en/torchscript&quot;},{&quot;title&quot;:&quot;Benchmarks&quot;,&quot;isExpanded&quot;:true,&quot;id&quot;:&quot;benchmarks&quot;,&quot;url&quot;:&quot;/docs/transformers/v4.34.0/en/benchmarks&quot;},{&quot;title&quot;:&quot;Notebooks with examples&quot;,&quot;isExpanded&quot;:true,&quot;id&quot;:&quot;notebooks&quot;,&quot;url&quot;:&quot;/docs/transformers/v4.34.0/en/notebooks&quot;},{&quot;title&quot;:&quot;Community resources&quot;,&quot;isExpanded&quot;:true,&quot;id&quot;:&quot;community&quot;,&quot;url&quot;:&quot;/docs/transformers/v4.34.0/en/community&quot;},{&quot;title&quot;:&quot;Custom Tools and Prompts&quot;,&quot;isExpanded&quot;:true,&quot;id&quot;:&quot;custom_tools&quot;,&quot;url&quot;:&quot;/docs/transformers/v4.34.0/en/custom_tools&quot;},{&quot;title&quot;:&quot;Troubleshoot&quot;,&quot;isExpanded&quot;:true,&quot;id&quot;:&quot;troubleshooting&quot;,&quot;url&quot;:&quot;/docs/transformers/v4.34.0/en/troubleshooting&quot;}]},{&quot;title&quot;:&quot;Performance and scalability&quot;,&quot;isExpanded&quot;:true,&quot;sections&quot;:[{&quot;title&quot;:&quot;Overview&quot;,&quot;isExpanded&quot;:true,&quot;id&quot;:&quot;performance&quot;,&quot;url&quot;:&quot;/docs/transformers/v4.34.0/en/performance&quot;},{&quot;title&quot;:&quot;Efficient training techniques&quot;,&quot;isExpanded&quot;:true,&', document_id='23', token_count=512), Chunk(content=';/docs/transformers/v4.34.0/en/tflite&quot;},{&quot;title&quot;:&quot;Export to TorchScript&quot;,&quot;isExpanded&quot;:true,&quot;id&quot;:&quot;torchscript&quot;,&quot;url&quot;:&quot;/docs/transformers/v4.34.0/en/torchscript&quot;},{&quot;title&quot;:&quot;Benchmarks&quot;,&quot;isExpanded&quot;:true,&quot;id&quot;:&quot;benchmarks&quot;,&quot;url&quot;:&quot;/docs/transformers/v4.34.0/en/benchmarks&quot;},{&quot;title&quot;:&quot;Notebooks with examples&quot;,&quot;isExpanded&quot;:true,&quot;id&quot;:&quot;notebooks&quot;,&quot;url&quot;:&quot;/docs/transformers/v4.34.0/en/notebooks&quot;},{&quot;title&quot;:&quot;Community resources&quot;,&quot;isExpanded&quot;:true,&quot;id&quot;:&quot;community&quot;,&quot;url&quot;:&quot;/docs/transformers/v4.34.0/en/community&quot;},{&quot;title&quot;:&quot;Custom Tools and Prompts&quot;,&quot;isExpanded&quot;:true,&quot;id&quot;:&quot;custom_tools&quot;,&quot;url&quot;:&quot;/docs/transformers/v4.34.0/en/custom_tools&quot;},{&quot;title&quot;:&quot;Troubleshoot&quot;,&quot;isExpanded&quot;:true,&quot;id&quot;:&quot;troubleshooting&quot;,&quot;url&quot;:&quot;/docs/transformers/v4.34.0/en/troubleshooting&quot;}]},{&quot;title&quot;:&quot;Performance and scalability&quot;,&quot;isExpanded&quot;:true,&quot;sections&quot;:[{&quot;title&quot;:&quot;Overview&quot;,&quot;isExpanded&quot;:true,&quot;id&quot;:&quot;performance&quot;,&quot;url&quot;:&quot;/docs/transformers/v4.34.0/en/performance&quot;},{&quot;title&quot;:&quot;Efficient training techniques&quot;,&quot;isExpanded&quot;:true,&quot;sections&quot;:[{&quot;title&quot;:&quot;', document_id='49', token_count=512), Chunk(content=',&quot;url&quot;:&quot;/docs/transformers/v4.34.0/en/tflite&quot;},{&quot;title&quot;:&quot;Export to TorchScript&quot;,&quot;isExpanded&quot;:true,&quot;id&quot;:&quot;torchscript&quot;,&quot;url&quot;:&quot;/docs/transformers/v4.34.0/en/torchscript&quot;},{&quot;title&quot;:&quot;Benchmarks&quot;,&quot;isExpanded&quot;:true,&quot;id&quot;:&quot;benchmarks&quot;,&quot;url&quot;:&quot;/docs/transformers/v4.34.0/en/benchmarks&quot;},{&quot;title&quot;:&quot;Notebooks with examples&quot;,&quot;isExpanded&quot;:true,&quot;id&quot;:&quot;notebooks&quot;,&quot;url&quot;:&quot;/docs/transformers/v4.34.0/en/notebooks&quot;},{&quot;title&quot;:&quot;Community resources&quot;,&quot;isExpanded&quot;:true,&quot;id&quot;:&quot;community&quot;,&quot;url&quot;:&quot;/docs/transformers/v4.34.0/en/community&quot;},{&quot;title&quot;:&quot;Custom Tools and Prompts&quot;,&quot;isExpanded&quot;:true,&quot;id&quot;:&quot;custom_tools&quot;,&quot;url&quot;:&quot;/docs/transformers/v4.34.0/en/custom_tools&quot;},{&quot;title&quot;:&quot;Troubleshoot&quot;,&quot;isExpanded&quot;:true,&quot;id&quot;:&quot;troubleshooting&quot;,&quot;url&quot;:&quot;/docs/transformers/v4.34.0/en/troubleshooting&quot;}]},{&quot;title&quot;:&quot;Performance and scalability&quot;,&quot;isExpanded&quot;:true,&quot;sections&quot;:[{&quot;title&quot;:&quot;Overview&quot;,&quot;isExpanded&quot;:true,&quot;id&quot;:&quot;performance&quot;,&quot;url&quot;:&quot;/docs/transformers/v4.34.0/en/performance&quot;},{&quot;title&quot;:&quot;Efficient training techniques&quot;,&quot;isExpanded&quot;:true,&quot;sections&quot;:[{&', document_id='20', token_count=512), Chunk(content='UL2&quot;,&quot;id&quot;:&quot;model_doc/flan-ul2&quot;,&quot;url&quot;:&quot;/docs/transformers/v4.34.0/en/model_doc/flan-ul2&quot;},{&quot;title&quot;:&quot;FlauBERT&quot;,&quot;id&quot;:&quot;model_doc/flaubert&quot;,&quot;url&quot;:&quot;/docs/transformers/v4.34.0/en/model_doc/flaubert&quot;},{&quot;title&quot;:&quot;FNet&quot;,&quot;id&quot;:&quot;model_doc/fnet&quot;,&quot;url&quot;:&quot;/docs/transformers/v4.34.0/en/model_doc/fnet&quot;},{&quot;title&quot;:&quot;FSMT&quot;,&quot;id&quot;:&quot;model_doc/fsmt&quot;,&quot;url&quot;:&quot;/docs/transformers/v4.34.0/en/model_doc/fsmt&quot;},{&quot;title&quot;:&quot;Funnel Transformer&quot;,&quot;id&quot;:&quot;model_doc/funnel&quot;,&quot;url&quot;:&quot;/docs/transformers/v4.34.0/en/model_doc/funnel&quot;},{&quot;title&quot;:&quot;GPT&quot;,&quot;id&quot;:&quot;model_doc/openai-gpt&quot;,&quot;url&quot;:&quot;/docs/transformers/v4.34.0/en/model_doc/openai-gpt&quot;},{&quot;title&quot;:&quot;GPT Neo&quot;,&quot;id&quot;:&quot;model_doc/gpt_neo&quot;,&quot;url&quot;:&quot;/docs/transformers/v4.34.0/en/model_doc/gpt_neo&quot;},{&quot;title&quot;:&quot;GPT NeoX&quot;,&quot;id&quot;:&quot;model_doc/gpt_neox&quot;,&quot;url&quot;:&quot;/docs/transformers/v4.34.0/en/model_doc/gpt_neox&quot;},{&quot;title&quot;:&quot;GPT NeoX Japanese&quot;,&quot;id&quot;:&quot;model_doc/gpt_neox_japanese&quot;,&quot;url&quot;:&quot;/docs/transformers/v4.34.0/en/model_doc/g', document_id='10', token_count=512), Chunk(content='id&quot;:&quot;serialization&quot;,&quot;url&quot;:&quot;/docs/transformers/v4.34.0/en/serialization&quot;},{&quot;title&quot;:&quot;Export to TFLite&quot;,&quot;isExpanded&quot;:true,&quot;id&quot;:&quot;tflite&quot;,&quot;url&quot;:&quot;/docs/transformers/v4.34.0/en/tflite&quot;},{&quot;title&quot;:&quot;Export to TorchScript&quot;,&quot;isExpanded&quot;:true,&quot;id&quot;:&quot;torchscript&quot;,&quot;url&quot;:&quot;/docs/transformers/v4.34.0/en/torchscript&quot;},{&quot;title&quot;:&quot;Benchmarks&quot;,&quot;isExpanded&quot;:true,&quot;id&quot;:&quot;benchmarks&quot;,&quot;url&quot;:&quot;/docs/transformers/v4.34.0/en/benchmarks&quot;},{&quot;title&quot;:&quot;Notebooks with examples&quot;,&quot;isExpanded&quot;:true,&quot;id&quot;:&quot;notebooks&quot;,&quot;url&quot;:&quot;/docs/transformers/v4.34.0/en/notebooks&quot;},{&quot;title&quot;:&quot;Community resources&quot;,&quot;isExpanded&quot;:true,&quot;id&quot;:&quot;community&quot;,&quot;url&quot;:&quot;/docs/transformers/v4.34.0/en/community&quot;},{&quot;title&quot;:&quot;Custom Tools and Prompts&quot;,&quot;isExpanded&quot;:true,&quot;id&quot;:&quot;custom_tools&quot;,&quot;url&quot;:&quot;/docs/transformers/v4.34.0/en/custom_tools&quot;},{&quot;title&quot;:&quot;Troubleshoot&quot;,&quot;isExpanded&quot;:true,&quot;id&quot;:&quot;troubleshooting&quot;,&quot;url&quot;:&quot;/docs/transformers/v4.34.0/en/troubleshooting&quot;}]},{&quot;title&quot;:&quot;Performance and scalability&quot;,&quot;isExpanded&quot;:true,&quot;sections&quot;:[{&quot;title&quot;:&quot;Overview&quot;,&quot;isExpanded&quot', document_id='33', token_count=512), Chunk(content=';,&quot;isExpanded&quot;:true,&quot;id&quot;:&quot;serialization&quot;,&quot;url&quot;:&quot;/docs/transformers/v4.34.0/en/serialization&quot;},{&quot;title&quot;:&quot;Export to TFLite&quot;,&quot;isExpanded&quot;:true,&quot;id&quot;:&quot;tflite&quot;,&quot;url&quot;:&quot;/docs/transformers/v4.34.0/en/tflite&quot;},{&quot;title&quot;:&quot;Export to TorchScript&quot;,&quot;isExpanded&quot;:true,&quot;id&quot;:&quot;torchscript&quot;,&quot;url&quot;:&quot;/docs/transformers/v4.34.0/en/torchscript&quot;},{&quot;title&quot;:&quot;Benchmarks&quot;,&quot;isExpanded&quot;:true,&quot;id&quot;:&quot;benchmarks&quot;,&quot;url&quot;:&quot;/docs/transformers/v4.34.0/en/benchmarks&quot;},{&quot;title&quot;:&quot;Notebooks with examples&quot;,&quot;isExpanded&quot;:true,&quot;id&quot;:&quot;notebooks&quot;,&quot;url&quot;:&quot;/docs/transformers/v4.34.0/en/notebooks&quot;},{&quot;title&quot;:&quot;Community resources&quot;,&quot;isExpanded&quot;:true,&quot;id&quot;:&quot;community&quot;,&quot;url&quot;:&quot;/docs/transformers/v4.34.0/en/community&quot;},{&quot;title&quot;:&quot;Custom Tools and Prompts&quot;,&quot;isExpanded&quot;:true,&quot;id&quot;:&quot;custom_tools&quot;,&quot;url&quot;:&quot;/docs/transformers/v4.34.0/en/custom_tools&quot;},{&quot;title&quot;:&quot;Troubleshoot&quot;,&quot;isExpanded&quot;:true,&quot;id&quot;:&quot;troubleshooting&quot;,&quot;url&quot;:&quot;/docs/transformers/v4.34.0/en/troubleshooting&quot;}]},{&quot;title&quot;:&quot;Performance and scalability&quot;,&quot;isExpanded&quot;:true,&quot;sections&quot;:[{&quot;title&quot;', document_id='28', token_count=512)], scores=[0.6536100611877419, 0.6294083150306938, 0.6253380106538304, 0.6230623463578934, 0.6214621066349607, 0.6191910664615936, 0.6189364140576332, 0.6176441396534434, 0.6171091634657246, 0.6166151779836411])"
      ]
     },
     "metadata": {},
     "output_type": "display_data"
    },
    {
     "name": "stdout",
     "output_type": "stream",
     "text": [
      "Chunk(content=' 28.284a8 8 0 1 0 11.314 11.314l28.284-28.284a40 40 0 0 1 56.568 56.567l-28.285 28.285a8 8 0 0 0 11.315 11.314l28.284-28.284a56.065 56.065 0 0 0 0-79.196z\" fill=\"currentColor\"></path></svg></span></a> <span><strong>This</strong> model is a PyTorch [torch.nn.Module](https —//pytorch.org/docs/stable/nn.html#torch.nn.Module) sub-class. Use</span></span> </li><li class=\"text-base !pl-4 my-3 rounded \"><span class=\"group flex space-x-1.5 items-start\"><a id=\"transformers.UperNetForSemanticSegmentation.it\" class=\"header-link block pr-0.5 text-lg no-hover:hidden with-hover:absolute with-hover:p-1.5 with-hover:opacity-0 with-hover:group-hover:opacity-100 with-hover:right-full\" href=\"#transformers.UperNetForSemanticSegmentation.it\"><span><svg class=\"text-smd\" xmlns=\"http://www.w3.org/2000/svg\" xmlns:xlink=\"http://www.w3.org/1999/xlink\" aria-hidden=\"true\" role=\"img\" width=\"1em\" height=\"1em\" preserveAspectRatio=\"xMidYMid meet\" viewBox=\"0 0 256 256\"><path d=\"M167.594 88.393a8.001 8.001 0 0 1 0 11.314l-67.882 67.882a8 8 0 1 1-11.314-11.315l67.882-67.881a8.003 8.003 0 0 1 11.314 0zm-28.287 84.86l-28.284 28.284a40 40 0 0 1-56.567-56.567l28.284-28.284a8 8 0 0 0-11.315-11.315l-28.284 28.284a56 56 0 0 0 79.196', document_id='11', token_count=512)\n",
      "0.6536100611877419\n",
      "Chunk(content=' HTML_TAG_END --> <span class=\"flex-auto border-t-2 border-gray-100 dark:border-gray-700\"></span></div> <p class=\"text-base\"><!-- HTML_TAG_START -->\\n</p><p>A <a href=\"/docs/transformers/v4.34.0/en/main_classes/output#transformers.modeling_outputs.BaseModelOutput\">transformers.modeling_outputs.BaseModelOutput</a> or a tuple of\\n<code>torch.FloatTensor</code> (if <code>return_dict=False</code> is passed or when <code>config.return_dict=False</code>) comprising various\\nelements depending on the configuration (<a href=\"/docs/transformers/v4.34.0/en/model_doc/timesformer#transformers.TimesformerConfig\">TimesformerConfig</a>) and inputs.</p>\\n<ul>\\n<li>\\n<p><strong>last_hidden_state</strong> (<code>torch.FloatTensor</code> of shape <code>(batch_size, sequence_length, hidden_size)</code>) — Sequence of hidden-states at the output of the last layer of the model.</p>\\n</li>\\n<li>\\n<p><strong>hidden_states</strong> (<code>tuple(torch.FloatTensor)</code>, <em>optional</em>, returned when <code>output_hidden_states=True</code> is passed or when <code>config.output_hidden_states=True</code>) — Tuple of <code>torch.FloatTensor</code> (one for the output of the embeddings, if the model has an embedding layer, +\\none for the output of each layer) of shape <code>(batch_size, sequence_length, hidden_size)</code>.</p>\\n<p>Hidden-states of the model at the output of each layer plus the optional initial embedding outputs.</p>\\n</li>\\n<li>\\n<p><strong>attentions</strong> (<code>tuple(torch.FloatTensor)</code>, <em>optional</em>, returned when <code>output_attentions=True</code> is passed or when <code>config.output_attentions=True</code>) — Tuple of <code>torch.FloatTensor</code> (one for each layer) of shape <code>(batch_size, num_heads, sequence_length, sequence_length)</code>.</p>\\n<p>Attentions weights after the attention softmax, used to compute the weighted average in the self-attention\\nheads.</p>\\n</li>\\n</ul>\\n<!-- HTML_TAG_END --><p></p> </div></div> <p data-svelte-h=\"svelte-1bo', document_id='19', token_count=512)\n",
      "0.6294083150306938\n",
      "Chunk(content='a href=\"/docs/transformers/v4.34.0/en/main_classes/model#transformers.PreTrainedModel.from_pretrained\">from_pretrained()</a> method to load the model weights.<!-- HTML_TAG_END --> </span></span> </li></ul>   </div></div> <p data-svelte-h=\"svelte-gln3qs\">The bare TimeSformer Model transformer outputting raw hidden-states without any specific head on top.\\nThis model is a PyTorch <a href=\"https://pytorch.org/docs/stable/nn.html#torch.nn.Module\" rel=\"nofollow\">torch.nn.Module</a> subclass. Use it\\nas a regular PyTorch Module and refer to the PyTorch documentation for all matter related to general usage and\\nbehavior.</p> <div class=\"docstring border-l-2 border-t-2 pl-4 pt-3.5 border-gray-100 rounded-tl-xl mb-6 mt-8\">  <div><span class=\"group flex space-x-1.5 items-center text-gray-800 bg-gradient-to-r rounded-tr-lg -mt-4 -ml-4 pt-3 px-2.5\" id=\"transformers.TimesformerModel.forward\"><!-- HTML_TAG_START --><h4 class=\"!m-0\"><span class=\"flex-1 rounded-xl py-0.5 break-all bg-gradient-to-r from-blue-50/60 to-white dark:from-gray-900 dark:to-gray-950 text-blue-700 dark:text-blue-300 font-medium px-2\"><svg width=\"1em\" height=\"1em\" viewBox=\"0 0 32 33\" class=\"mr-1 inline-block -mt-0.5\" xmlns=\"http://www.w3.org/2000/svg\"><path d=\"M5.80566 18.3545C4.90766 17.4565 4.90766 16.0005 5.80566 15.1025L14.3768 6.53142C15.2748 5.63342 16.7307 5.63342 17.6287 6.53142L26.1999 15.1025C27.0979 16.0005 27.0979 17.4565 26.1999 18.3545L17.6287 26.9256C16.7307 ', document_id='19', token_count=512)\n",
      "0.6253380106538304\n",
      "Chunk(content=';tflite&quot;,&quot;url&quot;:&quot;/docs/transformers/v4.34.0/en/tflite&quot;},{&quot;title&quot;:&quot;Export to TorchScript&quot;,&quot;isExpanded&quot;:true,&quot;id&quot;:&quot;torchscript&quot;,&quot;url&quot;:&quot;/docs/transformers/v4.34.0/en/torchscript&quot;},{&quot;title&quot;:&quot;Benchmarks&quot;,&quot;isExpanded&quot;:true,&quot;id&quot;:&quot;benchmarks&quot;,&quot;url&quot;:&quot;/docs/transformers/v4.34.0/en/benchmarks&quot;},{&quot;title&quot;:&quot;Notebooks with examples&quot;,&quot;isExpanded&quot;:true,&quot;id&quot;:&quot;notebooks&quot;,&quot;url&quot;:&quot;/docs/transformers/v4.34.0/en/notebooks&quot;},{&quot;title&quot;:&quot;Community resources&quot;,&quot;isExpanded&quot;:true,&quot;id&quot;:&quot;community&quot;,&quot;url&quot;:&quot;/docs/transformers/v4.34.0/en/community&quot;},{&quot;title&quot;:&quot;Custom Tools and Prompts&quot;,&quot;isExpanded&quot;:true,&quot;id&quot;:&quot;custom_tools&quot;,&quot;url&quot;:&quot;/docs/transformers/v4.34.0/en/custom_tools&quot;},{&quot;title&quot;:&quot;Troubleshoot&quot;,&quot;isExpanded&quot;:true,&quot;id&quot;:&quot;troubleshooting&quot;,&quot;url&quot;:&quot;/docs/transformers/v4.34.0/en/troubleshooting&quot;}]},{&quot;title&quot;:&quot;Performance and scalability&quot;,&quot;isExpanded&quot;:true,&quot;sections&quot;:[{&quot;title&quot;:&quot;Overview&quot;,&quot;isExpanded&quot;:true,&quot;id&quot;:&quot;performance&quot;,&quot;url&quot;:&quot;/docs/transformers/v4.34.0/en/performance&quot;},{&quot;title&quot;:&quot;Efficient training techniques&quot;,&quot;isExpanded&quot;:true,&quot;sections', document_id='42', token_count=512)\n",
      "0.6230623463578934\n",
      "Chunk(content=';:&quot;tflite&quot;,&quot;url&quot;:&quot;/docs/transformers/v4.34.0/en/tflite&quot;},{&quot;title&quot;:&quot;Export to TorchScript&quot;,&quot;isExpanded&quot;:true,&quot;id&quot;:&quot;torchscript&quot;,&quot;url&quot;:&quot;/docs/transformers/v4.34.0/en/torchscript&quot;},{&quot;title&quot;:&quot;Benchmarks&quot;,&quot;isExpanded&quot;:true,&quot;id&quot;:&quot;benchmarks&quot;,&quot;url&quot;:&quot;/docs/transformers/v4.34.0/en/benchmarks&quot;},{&quot;title&quot;:&quot;Notebooks with examples&quot;,&quot;isExpanded&quot;:true,&quot;id&quot;:&quot;notebooks&quot;,&quot;url&quot;:&quot;/docs/transformers/v4.34.0/en/notebooks&quot;},{&quot;title&quot;:&quot;Community resources&quot;,&quot;isExpanded&quot;:true,&quot;id&quot;:&quot;community&quot;,&quot;url&quot;:&quot;/docs/transformers/v4.34.0/en/community&quot;},{&quot;title&quot;:&quot;Custom Tools and Prompts&quot;,&quot;isExpanded&quot;:true,&quot;id&quot;:&quot;custom_tools&quot;,&quot;url&quot;:&quot;/docs/transformers/v4.34.0/en/custom_tools&quot;},{&quot;title&quot;:&quot;Troubleshoot&quot;,&quot;isExpanded&quot;:true,&quot;id&quot;:&quot;troubleshooting&quot;,&quot;url&quot;:&quot;/docs/transformers/v4.34.0/en/troubleshooting&quot;}]},{&quot;title&quot;:&quot;Performance and scalability&quot;,&quot;isExpanded&quot;:true,&quot;sections&quot;:[{&quot;title&quot;:&quot;Overview&quot;,&quot;isExpanded&quot;:true,&quot;id&quot;:&quot;performance&quot;,&quot;url&quot;:&quot;/docs/transformers/v4.34.0/en/performance&quot;},{&quot;title&quot;:&quot;Efficient training techniques&quot;,&quot;isExpanded&quot;:true,&', document_id='23', token_count=512)\n",
      "0.6214621066349607\n",
      "Chunk(content=';/docs/transformers/v4.34.0/en/tflite&quot;},{&quot;title&quot;:&quot;Export to TorchScript&quot;,&quot;isExpanded&quot;:true,&quot;id&quot;:&quot;torchscript&quot;,&quot;url&quot;:&quot;/docs/transformers/v4.34.0/en/torchscript&quot;},{&quot;title&quot;:&quot;Benchmarks&quot;,&quot;isExpanded&quot;:true,&quot;id&quot;:&quot;benchmarks&quot;,&quot;url&quot;:&quot;/docs/transformers/v4.34.0/en/benchmarks&quot;},{&quot;title&quot;:&quot;Notebooks with examples&quot;,&quot;isExpanded&quot;:true,&quot;id&quot;:&quot;notebooks&quot;,&quot;url&quot;:&quot;/docs/transformers/v4.34.0/en/notebooks&quot;},{&quot;title&quot;:&quot;Community resources&quot;,&quot;isExpanded&quot;:true,&quot;id&quot;:&quot;community&quot;,&quot;url&quot;:&quot;/docs/transformers/v4.34.0/en/community&quot;},{&quot;title&quot;:&quot;Custom Tools and Prompts&quot;,&quot;isExpanded&quot;:true,&quot;id&quot;:&quot;custom_tools&quot;,&quot;url&quot;:&quot;/docs/transformers/v4.34.0/en/custom_tools&quot;},{&quot;title&quot;:&quot;Troubleshoot&quot;,&quot;isExpanded&quot;:true,&quot;id&quot;:&quot;troubleshooting&quot;,&quot;url&quot;:&quot;/docs/transformers/v4.34.0/en/troubleshooting&quot;}]},{&quot;title&quot;:&quot;Performance and scalability&quot;,&quot;isExpanded&quot;:true,&quot;sections&quot;:[{&quot;title&quot;:&quot;Overview&quot;,&quot;isExpanded&quot;:true,&quot;id&quot;:&quot;performance&quot;,&quot;url&quot;:&quot;/docs/transformers/v4.34.0/en/performance&quot;},{&quot;title&quot;:&quot;Efficient training techniques&quot;,&quot;isExpanded&quot;:true,&quot;sections&quot;:[{&quot;title&quot;:&quot;', document_id='49', token_count=512)\n",
      "0.6191910664615936\n",
      "Chunk(content=',&quot;url&quot;:&quot;/docs/transformers/v4.34.0/en/tflite&quot;},{&quot;title&quot;:&quot;Export to TorchScript&quot;,&quot;isExpanded&quot;:true,&quot;id&quot;:&quot;torchscript&quot;,&quot;url&quot;:&quot;/docs/transformers/v4.34.0/en/torchscript&quot;},{&quot;title&quot;:&quot;Benchmarks&quot;,&quot;isExpanded&quot;:true,&quot;id&quot;:&quot;benchmarks&quot;,&quot;url&quot;:&quot;/docs/transformers/v4.34.0/en/benchmarks&quot;},{&quot;title&quot;:&quot;Notebooks with examples&quot;,&quot;isExpanded&quot;:true,&quot;id&quot;:&quot;notebooks&quot;,&quot;url&quot;:&quot;/docs/transformers/v4.34.0/en/notebooks&quot;},{&quot;title&quot;:&quot;Community resources&quot;,&quot;isExpanded&quot;:true,&quot;id&quot;:&quot;community&quot;,&quot;url&quot;:&quot;/docs/transformers/v4.34.0/en/community&quot;},{&quot;title&quot;:&quot;Custom Tools and Prompts&quot;,&quot;isExpanded&quot;:true,&quot;id&quot;:&quot;custom_tools&quot;,&quot;url&quot;:&quot;/docs/transformers/v4.34.0/en/custom_tools&quot;},{&quot;title&quot;:&quot;Troubleshoot&quot;,&quot;isExpanded&quot;:true,&quot;id&quot;:&quot;troubleshooting&quot;,&quot;url&quot;:&quot;/docs/transformers/v4.34.0/en/troubleshooting&quot;}]},{&quot;title&quot;:&quot;Performance and scalability&quot;,&quot;isExpanded&quot;:true,&quot;sections&quot;:[{&quot;title&quot;:&quot;Overview&quot;,&quot;isExpanded&quot;:true,&quot;id&quot;:&quot;performance&quot;,&quot;url&quot;:&quot;/docs/transformers/v4.34.0/en/performance&quot;},{&quot;title&quot;:&quot;Efficient training techniques&quot;,&quot;isExpanded&quot;:true,&quot;sections&quot;:[{&', document_id='20', token_count=512)\n",
      "0.6189364140576332\n",
      "Chunk(content='UL2&quot;,&quot;id&quot;:&quot;model_doc/flan-ul2&quot;,&quot;url&quot;:&quot;/docs/transformers/v4.34.0/en/model_doc/flan-ul2&quot;},{&quot;title&quot;:&quot;FlauBERT&quot;,&quot;id&quot;:&quot;model_doc/flaubert&quot;,&quot;url&quot;:&quot;/docs/transformers/v4.34.0/en/model_doc/flaubert&quot;},{&quot;title&quot;:&quot;FNet&quot;,&quot;id&quot;:&quot;model_doc/fnet&quot;,&quot;url&quot;:&quot;/docs/transformers/v4.34.0/en/model_doc/fnet&quot;},{&quot;title&quot;:&quot;FSMT&quot;,&quot;id&quot;:&quot;model_doc/fsmt&quot;,&quot;url&quot;:&quot;/docs/transformers/v4.34.0/en/model_doc/fsmt&quot;},{&quot;title&quot;:&quot;Funnel Transformer&quot;,&quot;id&quot;:&quot;model_doc/funnel&quot;,&quot;url&quot;:&quot;/docs/transformers/v4.34.0/en/model_doc/funnel&quot;},{&quot;title&quot;:&quot;GPT&quot;,&quot;id&quot;:&quot;model_doc/openai-gpt&quot;,&quot;url&quot;:&quot;/docs/transformers/v4.34.0/en/model_doc/openai-gpt&quot;},{&quot;title&quot;:&quot;GPT Neo&quot;,&quot;id&quot;:&quot;model_doc/gpt_neo&quot;,&quot;url&quot;:&quot;/docs/transformers/v4.34.0/en/model_doc/gpt_neo&quot;},{&quot;title&quot;:&quot;GPT NeoX&quot;,&quot;id&quot;:&quot;model_doc/gpt_neox&quot;,&quot;url&quot;:&quot;/docs/transformers/v4.34.0/en/model_doc/gpt_neox&quot;},{&quot;title&quot;:&quot;GPT NeoX Japanese&quot;,&quot;id&quot;:&quot;model_doc/gpt_neox_japanese&quot;,&quot;url&quot;:&quot;/docs/transformers/v4.34.0/en/model_doc/g', document_id='10', token_count=512)\n",
      "0.6176441396534434\n",
      "Chunk(content='id&quot;:&quot;serialization&quot;,&quot;url&quot;:&quot;/docs/transformers/v4.34.0/en/serialization&quot;},{&quot;title&quot;:&quot;Export to TFLite&quot;,&quot;isExpanded&quot;:true,&quot;id&quot;:&quot;tflite&quot;,&quot;url&quot;:&quot;/docs/transformers/v4.34.0/en/tflite&quot;},{&quot;title&quot;:&quot;Export to TorchScript&quot;,&quot;isExpanded&quot;:true,&quot;id&quot;:&quot;torchscript&quot;,&quot;url&quot;:&quot;/docs/transformers/v4.34.0/en/torchscript&quot;},{&quot;title&quot;:&quot;Benchmarks&quot;,&quot;isExpanded&quot;:true,&quot;id&quot;:&quot;benchmarks&quot;,&quot;url&quot;:&quot;/docs/transformers/v4.34.0/en/benchmarks&quot;},{&quot;title&quot;:&quot;Notebooks with examples&quot;,&quot;isExpanded&quot;:true,&quot;id&quot;:&quot;notebooks&quot;,&quot;url&quot;:&quot;/docs/transformers/v4.34.0/en/notebooks&quot;},{&quot;title&quot;:&quot;Community resources&quot;,&quot;isExpanded&quot;:true,&quot;id&quot;:&quot;community&quot;,&quot;url&quot;:&quot;/docs/transformers/v4.34.0/en/community&quot;},{&quot;title&quot;:&quot;Custom Tools and Prompts&quot;,&quot;isExpanded&quot;:true,&quot;id&quot;:&quot;custom_tools&quot;,&quot;url&quot;:&quot;/docs/transformers/v4.34.0/en/custom_tools&quot;},{&quot;title&quot;:&quot;Troubleshoot&quot;,&quot;isExpanded&quot;:true,&quot;id&quot;:&quot;troubleshooting&quot;,&quot;url&quot;:&quot;/docs/transformers/v4.34.0/en/troubleshooting&quot;}]},{&quot;title&quot;:&quot;Performance and scalability&quot;,&quot;isExpanded&quot;:true,&quot;sections&quot;:[{&quot;title&quot;:&quot;Overview&quot;,&quot;isExpanded&quot', document_id='33', token_count=512)\n",
      "0.6171091634657246\n",
      "Chunk(content=';,&quot;isExpanded&quot;:true,&quot;id&quot;:&quot;serialization&quot;,&quot;url&quot;:&quot;/docs/transformers/v4.34.0/en/serialization&quot;},{&quot;title&quot;:&quot;Export to TFLite&quot;,&quot;isExpanded&quot;:true,&quot;id&quot;:&quot;tflite&quot;,&quot;url&quot;:&quot;/docs/transformers/v4.34.0/en/tflite&quot;},{&quot;title&quot;:&quot;Export to TorchScript&quot;,&quot;isExpanded&quot;:true,&quot;id&quot;:&quot;torchscript&quot;,&quot;url&quot;:&quot;/docs/transformers/v4.34.0/en/torchscript&quot;},{&quot;title&quot;:&quot;Benchmarks&quot;,&quot;isExpanded&quot;:true,&quot;id&quot;:&quot;benchmarks&quot;,&quot;url&quot;:&quot;/docs/transformers/v4.34.0/en/benchmarks&quot;},{&quot;title&quot;:&quot;Notebooks with examples&quot;,&quot;isExpanded&quot;:true,&quot;id&quot;:&quot;notebooks&quot;,&quot;url&quot;:&quot;/docs/transformers/v4.34.0/en/notebooks&quot;},{&quot;title&quot;:&quot;Community resources&quot;,&quot;isExpanded&quot;:true,&quot;id&quot;:&quot;community&quot;,&quot;url&quot;:&quot;/docs/transformers/v4.34.0/en/community&quot;},{&quot;title&quot;:&quot;Custom Tools and Prompts&quot;,&quot;isExpanded&quot;:true,&quot;id&quot;:&quot;custom_tools&quot;,&quot;url&quot;:&quot;/docs/transformers/v4.34.0/en/custom_tools&quot;},{&quot;title&quot;:&quot;Troubleshoot&quot;,&quot;isExpanded&quot;:true,&quot;id&quot;:&quot;troubleshooting&quot;,&quot;url&quot;:&quot;/docs/transformers/v4.34.0/en/troubleshooting&quot;}]},{&quot;title&quot;:&quot;Performance and scalability&quot;,&quot;isExpanded&quot;:true,&quot;sections&quot;:[{&quot;title&quot;', document_id='28', token_count=512)\n",
      "0.6166151779836411\n"
     ]
    }
   ],
   "source": [
    "import os\n",
    "from llama_stack_client import LlamaStackClient\n",
    "\n",
    "# Test run\n",
    "client = LlamaStackClient(\n",
    "    base_url=\"http://localhost:5001\",\n",
    ")\n",
    "\n",
    "response = client.memory.query(\n",
    "    bank_id=bank_id,\n",
    "    query=[\"What is William Falder's occupation?\"],\n",
    "    params={\"max_chunks\": 10},\n",
    ")\n",
    "\n",
    "display(response)\n",
    "\n",
    "for chunk, score in zip(response.chunks, response.scores):\n",
    "    print(chunk)\n",
    "    print(score)"
   ]
  },
  {
   "cell_type": "code",
   "execution_count": 12,
   "metadata": {},
   "outputs": [
    {
     "data": {
      "text/html": [
       "<div>\n",
       "<style scoped>\n",
       "    .dataframe tbody tr th:only-of-type {\n",
       "        vertical-align: middle;\n",
       "    }\n",
       "\n",
       "    .dataframe tbody tr th {\n",
       "        vertical-align: top;\n",
       "    }\n",
       "\n",
       "    .dataframe thead th {\n",
       "        text-align: right;\n",
       "    }\n",
       "</style>\n",
       "<table border=\"1\" class=\"dataframe\">\n",
       "  <thead>\n",
       "    <tr style=\"text-align: right;\">\n",
       "      <th></th>\n",
       "      <th>context_length</th>\n",
       "    </tr>\n",
       "  </thead>\n",
       "  <tbody>\n",
       "    <tr>\n",
       "      <th>count</th>\n",
       "      <td>50.00000</td>\n",
       "    </tr>\n",
       "    <tr>\n",
       "      <th>mean</th>\n",
       "      <td>178385.28000</td>\n",
       "    </tr>\n",
       "    <tr>\n",
       "      <th>std</th>\n",
       "      <td>92226.00916</td>\n",
       "    </tr>\n",
       "    <tr>\n",
       "      <th>min</th>\n",
       "      <td>253.00000</td>\n",
       "    </tr>\n",
       "    <tr>\n",
       "      <th>25%</th>\n",
       "      <td>159669.25000</td>\n",
       "    </tr>\n",
       "    <tr>\n",
       "      <th>50%</th>\n",
       "      <td>209115.50000</td>\n",
       "    </tr>\n",
       "    <tr>\n",
       "      <th>75%</th>\n",
       "      <td>240418.50000</td>\n",
       "    </tr>\n",
       "    <tr>\n",
       "      <th>max</th>\n",
       "      <td>296460.00000</td>\n",
       "    </tr>\n",
       "  </tbody>\n",
       "</table>\n",
       "</div>"
      ],
      "text/plain": [
       "       context_length\n",
       "count        50.00000\n",
       "mean     178385.28000\n",
       "std       92226.00916\n",
       "min         253.00000\n",
       "25%      159669.25000\n",
       "50%      209115.50000\n",
       "75%      240418.50000\n",
       "max      296460.00000"
      ]
     },
     "execution_count": 12,
     "metadata": {},
     "output_type": "execute_result"
    }
   ],
   "source": [
    "import pandas as pd\n",
    "import datasets\n",
    "\n",
    "# dataset = datasets.load_dataset(path=\"data/transformers.parquet\")\n",
    "\n",
    "# df = dataset[\"train\"].to_pandas()\n",
    "df = pd.read_parquet(\"data/transformers.parquet\")\n",
    "df = df.rename(columns={'html': 'context'})\n",
    "df['context_length'] = df['context'].apply(lambda x: len(x))\n",
    "df.describe()"
   ]
  },
  {
   "cell_type": "code",
   "execution_count": 13,
   "metadata": {},
   "outputs": [
    {
     "name": "stdout",
     "output_type": "stream",
     "text": [
      "50\n",
      "50\n"
     ]
    },
    {
     "data": {
      "text/plain": [
       "['',\n",
       " 'Translation',\n",
       " 'Run training on Amazon SageMaker',\n",
       " 'Create a custom architecture',\n",
       " 'Image Processor']"
      ]
     },
     "metadata": {},
     "output_type": "display_data"
    },
    {
     "data": {
      "text/plain": [
       "[0,\n",
       " 1,\n",
       " 2,\n",
       " 3,\n",
       " 4,\n",
       " 5,\n",
       " 6,\n",
       " 7,\n",
       " 8,\n",
       " 9,\n",
       " 10,\n",
       " 11,\n",
       " 12,\n",
       " 13,\n",
       " 14,\n",
       " 15,\n",
       " 16,\n",
       " 17,\n",
       " 18,\n",
       " 19,\n",
       " 20,\n",
       " 21,\n",
       " 22,\n",
       " 23,\n",
       " 24,\n",
       " 25,\n",
       " 26,\n",
       " 27,\n",
       " 28,\n",
       " 29,\n",
       " 30,\n",
       " 31,\n",
       " 32,\n",
       " 33,\n",
       " 34,\n",
       " 35,\n",
       " 36,\n",
       " 37,\n",
       " 38,\n",
       " 39]"
      ]
     },
     "execution_count": 13,
     "metadata": {},
     "output_type": "execute_result"
    }
   ],
   "source": [
    "doc_ids = []\n",
    "titles = []\n",
    "for i, row in df.iterrows():\n",
    "    titles.append(row[\"title\"])\n",
    "    doc_ids.append(i)\n",
    "\n",
    "print(len(titles))\n",
    "print(len(doc_ids))\n",
    "display(titles[:5])\n",
    "doc_ids[:40]"
   ]
  },
  {
   "cell_type": "code",
   "execution_count": 14,
   "metadata": {},
   "outputs": [
    {
     "name": "stderr",
     "output_type": "stream",
     "text": [
      " 38%|████████████████████████████▌                                              | 19/50 [00:00<00:00, 90.39it/s]"
     ]
    },
    {
     "name": "stderr",
     "output_type": "stream",
     "text": [
      "100%|███████████████████████████████████████████████████████████████████████████| 50/50 [00:00<00:00, 89.10it/s]\n"
     ]
    },
    {
     "data": {
      "text/plain": [
       "[[25, 4, 25, 28, 33, 41, 36, 42, 4, 41],\n",
       " [28, 28, 1, 24, 1, 24, 1, 1, 41, 36],\n",
       " [22, 6, 1, 2, 12, 2, 42, 5, 48, 44],\n",
       " [3, 3, 22, 22, 26, 29, 3, 49, 3, 11],\n",
       " [4, 18, 3, 26, 16, 35, 42, 42, 28, 44],\n",
       " [5, 5, 5, 5, 5, 5, 5, 5, 5, 5],\n",
       " [4, 45, 1, 35, 16, 6, 7, 32, 26, 5],\n",
       " [7, 7, 5, 7, 7, 7, 7, 17, 7, 7],\n",
       " [8, 8, 8, 8, 4, 8, 8, 31, 8, 8],\n",
       " [25, 4, 25, 28, 33, 41, 36, 42, 4, 41],\n",
       " [10, 17, 33, 10, 10, 7, 5, 17, 10, 1],\n",
       " [11, 31, 11, 11, 11, 17, 1, 7, 2, 5],\n",
       " [12, 12, 12, 12, 12, 28, 12, 28, 6, 6],\n",
       " [25, 4, 25, 28, 33, 41, 36, 42, 4, 41],\n",
       " [41, 3, 14, 24, 26, 41, 40, 14, 17, 17],\n",
       " [18, 48, 15, 44, 44, 44, 15, 44, 44, 44],\n",
       " [16, 16, 16, 16, 16, 16, 16, 16, 16, 16],\n",
       " [17, 7, 5, 17, 42, 12, 20, 49, 17, 23],\n",
       " [48, 18, 38, 11, 44, 48, 44, 3, 25, 44],\n",
       " [19, 19, 42, 19, 19, 19, 19, 19, 19, 19],\n",
       " [20, 4, 15, 26, 33, 15, 32, 19, 36, 35],\n",
       " [25, 4, 25, 28, 33, 41, 36, 42, 4, 41],\n",
       " [22, 32, 49, 22, 14, 24, 24, 22, 49, 22],\n",
       " [14, 35, 23, 26, 41, 25, 38, 15, 17, 23],\n",
       " [22, 24, 4, 1, 6, 5, 7, 33, 19, 28],\n",
       " [25, 24, 25, 28, 25, 28, 25, 32, 26, 24],\n",
       " [28, 14, 11, 7, 14, 26, 28, 26, 26, 18],\n",
       " [25, 4, 25, 28, 33, 41, 36, 42, 4, 41],\n",
       " [28, 28, 28, 28, 28, 28, 28, 28, 28, 28],\n",
       " [29, 29, 29, 29, 29, 29, 29, 29, 29, 29],\n",
       " [25, 4, 25, 28, 33, 41, 36, 42, 4, 41],\n",
       " [31, 31, 31, 31, 33, 31, 39, 31, 20, 18],\n",
       " [24, 32, 1, 32, 32, 39, 32, 32, 32, 14],\n",
       " [33, 33, 33, 19, 29, 36, 7, 31, 33, 41],\n",
       " [25, 4, 25, 28, 33, 41, 36, 42, 4, 41],\n",
       " [35, 35, 35, 35, 35, 35, 35, 35, 35, 35],\n",
       " [36, 36, 36, 36, 36, 36, 36, 36, 36, 36],\n",
       " [25, 4, 25, 28, 33, 41, 36, 42, 4, 41],\n",
       " [48, 11, 10, 40, 25, 45, 28, 44, 38, 44],\n",
       " [39, 39, 32, 39, 39, 10, 35, 16, 41, 42],\n",
       " [40, 35, 45, 45, 45, 42, 47, 19, 24, 24],\n",
       " [41, 41, 41, 41, 41, 41, 41, 41, 6, 36],\n",
       " [42, 42, 42, 42, 42, 42, 42, 35, 42, 42],\n",
       " [43, 44, 43, 20, 49, 25, 44, 11, 25, 12],\n",
       " [38, 3, 25, 44, 14, 38, 11, 25, 26, 1],\n",
       " [45, 45, 45, 45, 16, 15, 45, 45, 45, 4],\n",
       " [25, 4, 25, 28, 33, 41, 36, 42, 4, 41],\n",
       " [42, 45, 35, 19, 19, 45, 40, 47, 45, 19],\n",
       " [48, 3, 25, 44, 38, 48, 11, 25, 1, 44],\n",
       " [49, 49, 49, 8, 22, 47, 22, 22, 49, 49]]"
      ]
     },
     "execution_count": 14,
     "metadata": {},
     "output_type": "execute_result"
    }
   ],
   "source": [
    "from tqdm import tqdm\n",
    "\n",
    "top_k = 10\n",
    "\n",
    "results = []\n",
    "\n",
    "for i in tqdm(range(0, len(titles))):\n",
    "    response = client.memory.query(\n",
    "        bank_id=bank_id,\n",
    "        query=[titles[i]],\n",
    "        params={\"max_chunks\": top_k},\n",
    "    )\n",
    "    res = [int(chunk.document_id) for chunk in response.chunks]\n",
    "    results.append(res)\n",
    "\n",
    "results"
   ]
  },
  {
   "cell_type": "code",
   "execution_count": 23,
   "metadata": {},
   "outputs": [
    {
     "data": {
      "text/plain": [
       "(50,)"
      ]
     },
     "metadata": {},
     "output_type": "display_data"
    },
    {
     "data": {
      "text/plain": [
       "(50, 1)"
      ]
     },
     "metadata": {},
     "output_type": "display_data"
    },
    {
     "data": {
      "text/plain": [
       "(50, 10)"
      ]
     },
     "metadata": {},
     "output_type": "display_data"
    },
    {
     "data": {
      "text/plain": [
       "array([[0., 0., 0., 0., 0., 0., 0., 0., 0., 0.],\n",
       "       [0., 0., 1., 0., 1., 0., 1., 1., 0., 0.],\n",
       "       [0., 0., 0., 1., 0., 1., 0., 0., 0., 0.],\n",
       "       [1., 1., 0., 0., 0., 0., 1., 0., 1., 0.],\n",
       "       [1., 0., 0., 0., 0., 0., 0., 0., 0., 0.],\n",
       "       [1., 1., 1., 1., 1., 1., 1., 1., 1., 1.],\n",
       "       [0., 0., 0., 0., 0., 1., 0., 0., 0., 0.],\n",
       "       [1., 1., 0., 1., 1., 1., 1., 0., 1., 1.],\n",
       "       [1., 1., 1., 1., 0., 1., 1., 0., 1., 1.],\n",
       "       [0., 0., 0., 0., 0., 0., 0., 0., 0., 0.],\n",
       "       [1., 0., 0., 1., 1., 0., 0., 0., 1., 0.],\n",
       "       [1., 0., 1., 1., 1., 0., 0., 0., 0., 0.],\n",
       "       [1., 1., 1., 1., 1., 0., 1., 0., 0., 0.],\n",
       "       [0., 0., 0., 0., 0., 0., 0., 0., 0., 0.],\n",
       "       [0., 0., 1., 0., 0., 0., 0., 1., 0., 0.],\n",
       "       [0., 0., 1., 0., 0., 0., 1., 0., 0., 0.],\n",
       "       [1., 1., 1., 1., 1., 1., 1., 1., 1., 1.],\n",
       "       [1., 0., 0., 1., 0., 0., 0., 0., 1., 0.],\n",
       "       [0., 1., 0., 0., 0., 0., 0., 0., 0., 0.],\n",
       "       [1., 1., 0., 1., 1., 1., 1., 1., 1., 1.],\n",
       "       [1., 0., 0., 0., 0., 0., 0., 0., 0., 0.],\n",
       "       [0., 0., 0., 0., 0., 0., 0., 0., 0., 0.],\n",
       "       [1., 0., 0., 1., 0., 0., 0., 1., 0., 1.],\n",
       "       [0., 0., 1., 0., 0., 0., 0., 0., 0., 1.],\n",
       "       [0., 1., 0., 0., 0., 0., 0., 0., 0., 0.],\n",
       "       [1., 0., 1., 0., 1., 0., 1., 0., 0., 0.],\n",
       "       [0., 0., 0., 0., 0., 1., 0., 1., 1., 0.],\n",
       "       [0., 0., 0., 0., 0., 0., 0., 0., 0., 0.],\n",
       "       [1., 1., 1., 1., 1., 1., 1., 1., 1., 1.],\n",
       "       [1., 1., 1., 1., 1., 1., 1., 1., 1., 1.],\n",
       "       [0., 0., 0., 0., 0., 0., 0., 0., 0., 0.],\n",
       "       [1., 1., 1., 1., 0., 1., 0., 1., 0., 0.],\n",
       "       [0., 1., 0., 1., 1., 0., 1., 1., 1., 0.],\n",
       "       [1., 1., 1., 0., 0., 0., 0., 0., 1., 0.],\n",
       "       [0., 0., 0., 0., 0., 0., 0., 0., 0., 0.],\n",
       "       [1., 1., 1., 1., 1., 1., 1., 1., 1., 1.],\n",
       "       [1., 1., 1., 1., 1., 1., 1., 1., 1., 1.],\n",
       "       [0., 0., 0., 0., 0., 0., 0., 0., 0., 0.],\n",
       "       [0., 0., 0., 0., 0., 0., 0., 0., 1., 0.],\n",
       "       [1., 1., 0., 1., 1., 0., 0., 0., 0., 0.],\n",
       "       [1., 0., 0., 0., 0., 0., 0., 0., 0., 0.],\n",
       "       [1., 1., 1., 1., 1., 1., 1., 1., 0., 0.],\n",
       "       [1., 1., 1., 1., 1., 1., 1., 0., 1., 1.],\n",
       "       [1., 0., 1., 0., 0., 0., 0., 0., 0., 0.],\n",
       "       [0., 0., 0., 1., 0., 0., 0., 0., 0., 0.],\n",
       "       [1., 1., 1., 1., 0., 0., 1., 1., 1., 0.],\n",
       "       [0., 0., 0., 0., 0., 0., 0., 0., 0., 0.],\n",
       "       [0., 0., 0., 0., 0., 0., 0., 1., 0., 0.],\n",
       "       [1., 0., 0., 0., 0., 1., 0., 0., 0., 0.],\n",
       "       [1., 1., 1., 0., 0., 0., 0., 0., 1., 1.]])"
      ]
     },
     "metadata": {},
     "output_type": "display_data"
    },
    {
     "data": {
      "text/plain": [
       "(50, 3)"
      ]
     },
     "metadata": {},
     "output_type": "display_data"
    }
   ],
   "source": [
    "import numpy as np\n",
    "\n",
    "top_k = 3\n",
    "\n",
    "res = np.array(results)\n",
    "\n",
    "\n",
    "targets = np.array(doc_ids)\n",
    "display(targets.shape)\n",
    "targets = np.expand_dims(targets, axis=1)\n",
    "display(targets.shape)\n",
    "targets = targets == res\n",
    "display(targets.shape)\n",
    "targets = targets.astype(float)\n",
    "display(targets)\n",
    "\n",
    "targets = targets[:, :top_k]\n",
    "display(targets.shape)"
   ]
  },
  {
   "cell_type": "code",
   "execution_count": 24,
   "metadata": {},
   "outputs": [
    {
     "data": {
      "text/plain": [
       "np.float64(0.4666666666666666)"
      ]
     },
     "execution_count": 24,
     "metadata": {},
     "output_type": "execute_result"
    }
   ],
   "source": [
    "temp = np.sum(targets, axis=1)\n",
    "temp = np.divide(temp, top_k)\n",
    "precision = np.sum(temp) / len(temp)\n",
    "precision"
   ]
  },
  {
   "cell_type": "code",
   "execution_count": 25,
   "metadata": {},
   "outputs": [
    {
     "data": {
      "text/plain": [
       "np.float64(0.7)"
      ]
     },
     "execution_count": 25,
     "metadata": {},
     "output_type": "execute_result"
    }
   ],
   "source": [
    "temp = np.logical_or.reduce(targets, axis=1)\n",
    "temp = temp.astype(float)\n",
    "recall = np.sum(temp) / len(temp)\n",
    "recall"
   ]
  },
  {
   "cell_type": "code",
   "execution_count": 26,
   "metadata": {},
   "outputs": [
    {
     "data": {
      "text/plain": [
       "np.float64(0.6166666666666667)"
      ]
     },
     "execution_count": 26,
     "metadata": {},
     "output_type": "execute_result"
    }
   ],
   "source": [
    "ranks = np.tile(np.arange(1, top_k + 1), (len(titles), 1)).astype(float)\n",
    "temp = np.copy(targets)\n",
    "for i in range(len(temp)):\n",
    "    first_true = True\n",
    "    for j in range(len(temp[i])):\n",
    "        if temp[i,j]:\n",
    "            if first_true:\n",
    "                first_true = False\n",
    "            else:\n",
    "                temp[i,j] = False\n",
    "reciprocal_ranks = temp / ranks\n",
    "reciprocal_ranks = np.sum(reciprocal_ranks) / len(temp)\n",
    "reciprocal_ranks = np.mean(reciprocal_ranks)\n",
    "reciprocal_ranks"
   ]
  }
 ],
 "metadata": {
  "kernelspec": {
   "display_name": "Python 3 (ipykernel)",
   "language": "python",
   "name": "python3"
  },
  "language_info": {
   "codemirror_mode": {
    "name": "ipython",
    "version": 3
   },
   "file_extension": ".py",
   "mimetype": "text/x-python",
   "name": "python",
   "nbconvert_exporter": "python",
   "pygments_lexer": "ipython3",
   "version": "3.10.15"
  }
 },
 "nbformat": 4,
 "nbformat_minor": 2
}
